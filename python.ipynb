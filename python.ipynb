{
  "nbformat": 4,
  "nbformat_minor": 0,
  "metadata": {
    "colab": {
      "provenance": []
    },
    "kernelspec": {
      "name": "python3",
      "display_name": "Python 3"
    },
    "language_info": {
      "name": "python"
    }
  },
  "cells": [
    {
      "cell_type": "code",
      "execution_count": null,
      "metadata": {
        "id": "4aUpthz3OaTy",
        "outputId": "24597cf2-6373-44d6-b0d3-58289df7f3bb",
        "colab": {
          "base_uri": "https://localhost:8080/"
        }
      },
      "outputs": [
        {
          "output_type": "stream",
          "name": "stdout",
          "text": [
            "enter the colorred\n",
            "stop\n"
          ]
        }
      ],
      "source": [
        "light = input(\"enter the color\")\n",
        "if(light==\"red\"):\n",
        "  print(\"stop\")\n",
        "elif(light==\"yellow\"):\n",
        "  print(\"look\")\n",
        "elif(light==\"green\"):\n",
        "  print(\"go\")\n",
        "else:\n",
        "  print(\"light broken\")"
      ]
    },
    {
      "cell_type": "code",
      "source": [
        "food=input(\"enter the food\")\n",
        "eat=\"Yes\" if food==\"cake\" else \"no\"\n",
        "print(eat)"
      ],
      "metadata": {
        "colab": {
          "base_uri": "https://localhost:8080/"
        },
        "id": "ol_57bm8CfUX",
        "outputId": "c931fed9-54ab-4b50-ead3-b6fd861d3d3b"
      },
      "execution_count": null,
      "outputs": [
        {
          "output_type": "stream",
          "name": "stdout",
          "text": [
            "enter the foodcake\n",
            "Yes\n"
          ]
        }
      ]
    },
    {
      "cell_type": "code",
      "source": [
        "ss=\"hii iii\"\n",
        "print(ss[3:])"
      ],
      "metadata": {
        "colab": {
          "base_uri": "https://localhost:8080/"
        },
        "id": "r66gRYmwT9mP",
        "outputId": "7910a111-b4ab-435d-e1c6-eddc1e96d613"
      },
      "execution_count": null,
      "outputs": [
        {
          "output_type": "stream",
          "name": "stdout",
          "text": [
            " iii\n"
          ]
        }
      ]
    },
    {
      "cell_type": "code",
      "source": [
        "list=[56,78,\"Harsha\"]\n",
        "print(list)\n",
        "print(len(list))\n",
        "l1=[28,56,78,94,27,34]\n",
        "print(l1[1:4])\n",
        "print(l1[1:])\n",
        "print(l1[:4])\n",
        "print(l1[-4:-1])\n",
        "\n",
        "l1.append(4)\n",
        "print(l1)\n",
        "l1.sort()\n",
        "print(l1)\n",
        "\n",
        "l1.sort(reverse=True)\n",
        "print(l1)\n",
        "\n",
        "l1.reverse()\n",
        "print(l1)\n",
        "\n",
        "l1.insert(1,20)\n",
        "print(l1)\n",
        "\n",
        "l1.remove(20)\n",
        "l1.pop(1)"
      ],
      "metadata": {
        "id": "olmljgu_UGme",
        "colab": {
          "base_uri": "https://localhost:8080/"
        },
        "outputId": "bb942a9c-551c-4bb0-e468-6f95e38f4a0f"
      },
      "execution_count": null,
      "outputs": [
        {
          "output_type": "stream",
          "name": "stdout",
          "text": [
            "[56, 78, 'Harsha']\n",
            "3\n",
            "[56, 78, 94]\n",
            "[56, 78, 94, 27, 34]\n",
            "[28, 56, 78, 94]\n",
            "[78, 94, 27]\n",
            "[28, 56, 78, 94, 27, 34, 4]\n",
            "[4, 27, 28, 34, 56, 78, 94]\n",
            "[94, 78, 56, 34, 28, 27, 4]\n",
            "[4, 27, 28, 34, 56, 78, 94]\n",
            "[4, 20, 27, 28, 34, 56, 78, 94]\n"
          ]
        }
      ]
    },
    {
      "cell_type": "code",
      "source": [
        "tup=(1,20,19,67,1)\n",
        "\n",
        "print(tup.index(1))\n",
        "print(tup.count(1))\n",
        "\n"
      ],
      "metadata": {
        "colab": {
          "base_uri": "https://localhost:8080/"
        },
        "id": "g231iLJ9gskB",
        "outputId": "c8a099dd-f223-4058-ab31-33ea3ff8bd6a"
      },
      "execution_count": null,
      "outputs": [
        {
          "output_type": "stream",
          "name": "stdout",
          "text": [
            "0\n",
            "2\n"
          ]
        }
      ]
    },
    {
      "cell_type": "code",
      "source": [
        "#WAP to check if a list contains a palindrome of elements. (Hint: use copy( ) method)\n",
        "l1=[1,2,5,2,1]\n",
        "print(l1==l1[::-1])\n",
        "l2=(1,2,5,2,1)\n",
        "print(l2==l2[::-1])"
      ],
      "metadata": {
        "colab": {
          "base_uri": "https://localhost:8080/"
        },
        "id": "A2FivK1YhmjZ",
        "outputId": "d763e102-4913-4524-f683-f4b99420602f"
      },
      "execution_count": null,
      "outputs": [
        {
          "output_type": "stream",
          "name": "stdout",
          "text": [
            "True\n",
            "True\n"
          ]
        }
      ]
    },
    {
      "cell_type": "code",
      "source": [
        "dict={\n",
        "    \"name\":\"Harsha\",\n",
        "    \"gpa\":9.6,\n",
        "    \"marks\":[9.8,9.7,9.5]\n",
        "}\n",
        "dict[\"name\"]=\"vardhan\"\n",
        "dict[\"xsurnmae\"]=\"upp\"\n",
        "print(dict)\n",
        "print(dict.keys())\n",
        "print(dict.values())\n",
        "print(dict.items())\n",
        "print(dict.get(\"name\"))\n",
        "dict.update({\"city\":\"Hyd\"})\n",
        "print(dict)"
      ],
      "metadata": {
        "colab": {
          "base_uri": "https://localhost:8080/"
        },
        "id": "0LSphpxkm39s",
        "outputId": "0f9d5e37-fda3-4d11-880d-04d090f3fb03"
      },
      "execution_count": null,
      "outputs": [
        {
          "output_type": "stream",
          "name": "stdout",
          "text": [
            "{'name': 'vardhan', 'gpa': 9.6, 'marks': [9.8, 9.7, 9.5], 'xsurnmae': 'upp'}\n",
            "dict_keys(['name', 'gpa', 'marks', 'xsurnmae'])\n",
            "dict_values(['vardhan', 9.6, [9.8, 9.7, 9.5], 'upp'])\n",
            "dict_items([('name', 'vardhan'), ('gpa', 9.6), ('marks', [9.8, 9.7, 9.5]), ('xsurnmae', 'upp')])\n",
            "vardhan\n",
            "{'name': 'vardhan', 'gpa': 9.6, 'marks': [9.8, 9.7, 9.5], 'xsurnmae': 'upp', 'city': 'Hyd'}\n"
          ]
        }
      ]
    },
    {
      "cell_type": "code",
      "source": [
        "s = {1, 2, 3, 4, 4, \"hello\", \"hello\"}  # sets automatically remove duplicates\n",
        "\n",
        "print(s)\n",
        "s.add(5)\n",
        "print(s)\n",
        "s.remove(5)\n",
        "print(s)\n",
        "s.pop()\n",
        "print(s)\n",
        "s.clear()\n",
        "print(s)\n",
        "\n",
        "s1={1,2,4}\n",
        "s2={2,3,5}\n",
        "print(s1.union(s2))\n",
        "print(s1.intersection(s2))"
      ],
      "metadata": {
        "colab": {
          "base_uri": "https://localhost:8080/"
        },
        "id": "C8LS5jqZrh3u",
        "outputId": "19c385ff-a638-4030-f82e-2624a0cf3a2a"
      },
      "execution_count": null,
      "outputs": [
        {
          "output_type": "stream",
          "name": "stdout",
          "text": [
            "{1, 2, 3, 4, 'hello'}\n",
            "{1, 2, 3, 4, 5, 'hello'}\n",
            "{1, 2, 3, 4, 'hello'}\n",
            "{2, 3, 4, 'hello'}\n",
            "set()\n",
            "{1, 2, 3, 4, 5}\n",
            "{2}\n"
          ]
        }
      ]
    },
    {
      "cell_type": "code",
      "source": [
        "count=1\n",
        "while count<=5:\n",
        "  print(count)\n",
        "  count=count+1\n",
        "\n",
        "n=int(input(\"enter the number\"))\n",
        "i=1\n",
        "while(i<=10):\n",
        "  print(str(n) + '*' + str(i) + '=' + str(n * i))\n",
        "  i+=1\n",
        "\n",
        "list=[1, 4, 9, 16, 25, 36, 49, 64, 81,100]\n",
        "j=0\n",
        "while j<len(list):\n",
        "  print(list[j])\n",
        "  j+=1\n",
        "\n",
        "tup=(1, 4, 9, 16, 25, 36, 49, 64, 81,100)\n",
        "k=0\n",
        "while k<len(tup):\n",
        "  if tup[k]==16:\n",
        "    print(tup[k],k)\n",
        "  k+=1"
      ],
      "metadata": {
        "colab": {
          "base_uri": "https://localhost:8080/"
        },
        "id": "lebcnhgCX7nV",
        "outputId": "26aebd54-0ac3-46e0-8fae-aea57c6c9394"
      },
      "execution_count": null,
      "outputs": [
        {
          "output_type": "stream",
          "name": "stdout",
          "text": [
            "1\n",
            "2\n",
            "3\n",
            "4\n",
            "5\n",
            "enter the number5\n",
            "5*1=5\n",
            "5*2=10\n",
            "5*3=15\n",
            "5*4=20\n",
            "5*5=25\n",
            "5*6=30\n",
            "5*7=35\n",
            "5*8=40\n",
            "5*9=45\n",
            "5*10=50\n",
            "1\n",
            "4\n",
            "9\n",
            "16\n",
            "25\n",
            "36\n",
            "49\n",
            "64\n",
            "81\n",
            "100\n",
            "16 3\n"
          ]
        }
      ]
    },
    {
      "cell_type": "code",
      "source": [
        "list=[1, 4, 9, 16, 25, 36, 49, 64, 81,100]\n",
        "for el in list:\n",
        "  print(el)\n",
        "tup=(1, 4, 9, 16, 25, 36, 49, 64, 81,100)\n",
        "for el in tup:\n",
        "  if(el==16):\n",
        "    print(el)\n"
      ],
      "metadata": {
        "colab": {
          "base_uri": "https://localhost:8080/"
        },
        "id": "SJwTh6Mrf4zQ",
        "outputId": "bce06575-b465-4860-f15c-1cf3ee3ed666"
      },
      "execution_count": null,
      "outputs": [
        {
          "output_type": "stream",
          "name": "stdout",
          "text": [
            "1\n",
            "4\n",
            "9\n",
            "16\n",
            "25\n",
            "36\n",
            "49\n",
            "64\n",
            "81\n",
            "100\n",
            "16\n"
          ]
        }
      ]
    },
    {
      "cell_type": "code",
      "source": [
        "def sum(a,b):\n",
        "  return a+b\n",
        "print(sum(3,4))\n",
        "\n",
        "list=[1, 4, 9, 16, 25, 36, 49, 64, 81,100]\n",
        "def lens(l):\n",
        "  print(len(list))\n",
        "lens(list)\n",
        "\n",
        "def plist(l):\n",
        "  for el in l:\n",
        "    print(el,end=\" \")\n",
        "plist(list)\n",
        "print()\n",
        "def fact(n) :\n",
        "  if n==0 or n==1 :\n",
        "    return 1\n",
        "  else :\n",
        "    return n*fact(n-1)\n",
        "\n",
        "print(fact(5))"
      ],
      "metadata": {
        "colab": {
          "base_uri": "https://localhost:8080/"
        },
        "id": "kgxfXmJAjH3D",
        "outputId": "fa180bc9-5e64-4c39-d926-ec21019a4492"
      },
      "execution_count": null,
      "outputs": [
        {
          "output_type": "stream",
          "name": "stdout",
          "text": [
            "7\n",
            "10\n",
            "1 4 9 16 25 36 49 64 81 100 \n",
            "120\n"
          ]
        }
      ]
    },
    {
      "cell_type": "code",
      "source": [
        "f=open(\"/content/demo.txt\",\"r\")\n",
        "print(f.read())\n",
        "f.close()\n",
        "f=open(\"/content/demo.txt\",\"w\")\n",
        "f.write(\"this is a new line\")\n",
        "f.close()\n",
        "f=open(\"/content/demo.txt\",\"a\")\n",
        "f.write(\"\\nIm learnig python\")\n",
        "f.close()"
      ],
      "metadata": {
        "id": "0WOp0Hc3f6xH",
        "colab": {
          "base_uri": "https://localhost:8080/"
        },
        "outputId": "830a4bfd-073f-411a-82a0-3d9550fed23c"
      },
      "execution_count": null,
      "outputs": [
        {
          "output_type": "stream",
          "name": "stdout",
          "text": [
            "this is a new lineIm learnig python\n"
          ]
        }
      ]
    },
    {
      "cell_type": "code",
      "source": [
        "with open(\"/content/demo.txt\",\"r\") as f:\n",
        "  print(f.read())\n",
        "f.close()"
      ],
      "metadata": {
        "colab": {
          "base_uri": "https://localhost:8080/"
        },
        "id": "_3XVAzi12MDG",
        "outputId": "86d6536a-de26-4adc-d65f-15435b4de480"
      },
      "execution_count": null,
      "outputs": [
        {
          "output_type": "stream",
          "name": "stdout",
          "text": [
            "this is a new line\n",
            "Im learnig python\n"
          ]
        }
      ]
    },
    {
      "cell_type": "code",
      "source": [
        "with open(\"/content/practice.txt\",\"w\") as f:\n",
        "  f.write(\"Hi everyone \\n we are learning File I/O\\n using Java.\\n I like programmin in Java.\")"
      ],
      "metadata": {
        "id": "BxwmUFv03S3h"
      },
      "execution_count": null,
      "outputs": []
    },
    {
      "cell_type": "code",
      "source": [
        "with open(\"/content/practice.txt\",\"r\") as f:\n",
        " data=f.read()\n",
        "new_data=data.replace(\"Java\",\"python\")\n",
        "print(new_data)"
      ],
      "metadata": {
        "colab": {
          "base_uri": "https://localhost:8080/"
        },
        "id": "YxvJllAT4BUU",
        "outputId": "5ee0a39b-b07a-4605-9697-0401ce554b0c"
      },
      "execution_count": null,
      "outputs": [
        {
          "output_type": "stream",
          "name": "stdout",
          "text": [
            "Hi everyone \n",
            " we are learning File I/O\n",
            " using python.\n",
            " I like programmin in python.\n"
          ]
        }
      ]
    },
    {
      "cell_type": "code",
      "source": [
        "with open(\"/content/practice.txt\",\"r\") as f:\n",
        " data=f.read()\n",
        " num=\"\"\n",
        " for i in range(len(data)):\n",
        "  if(data[i]==','):\n",
        "    if num != \"\" and int(num) % 2 == 0:\n",
        "      print(num)\n",
        "    num = \"\"\n",
        "  else:\n",
        "    num += data[i]\n",
        "if num != \"\" and int(num) % 2 == 0:\n",
        "    print(num)"
      ],
      "metadata": {
        "colab": {
          "base_uri": "https://localhost:8080/"
        },
        "id": "GAlui5l55N6E",
        "outputId": "37b57bbe-5e81-4697-b119-1312ec5cbc5e"
      },
      "execution_count": null,
      "outputs": [
        {
          "output_type": "stream",
          "name": "stdout",
          "text": [
            "2\n",
            "4\n",
            "6\n",
            "8\n",
            "10\n"
          ]
        }
      ]
    },
    {
      "cell_type": "code",
      "source": [
        "class Student:\n",
        "  name=\"Harsha\"\n",
        "s1=Student()\n",
        "print(s1.name)"
      ],
      "metadata": {
        "colab": {
          "base_uri": "https://localhost:8080/"
        },
        "id": "zmtL1zpoRs2P",
        "outputId": "41f2208d-ef5c-4098-fbae-7bcc4d238a0f"
      },
      "execution_count": null,
      "outputs": [
        {
          "output_type": "stream",
          "name": "stdout",
          "text": [
            "Harsha\n"
          ]
        }
      ]
    },
    {
      "cell_type": "code",
      "source": [
        "class Student:\n",
        "  def __init__ (self,fullname):\n",
        "    self.name=fullname\n",
        "\n",
        "  def welcome(self):\n",
        "    print(\"welcome \"+self.name);\n",
        "\n",
        "s1=Student(\"Harsha\")\n",
        "print(s1.name)\n",
        "s1.welcome()"
      ],
      "metadata": {
        "colab": {
          "base_uri": "https://localhost:8080/"
        },
        "id": "F9wvtISNTwU4",
        "outputId": "c1eeb484-8b39-4843-8cd8-825fa8531f66"
      },
      "execution_count": null,
      "outputs": [
        {
          "output_type": "stream",
          "name": "stdout",
          "text": [
            "Harsha\n",
            "welcome Harsha\n"
          ]
        }
      ]
    },
    {
      "cell_type": "code",
      "source": [
        "class car:\n",
        "  def __init__(self,name):\n",
        "    self.name=name\n",
        "  def start(self):\n",
        "    print(\"car started\")\n",
        "  def stop(self):\n",
        "    print(\"Car stoped\")\n",
        "class toyata(car):\n",
        "  def __init__(self,name):\n",
        "    self.name=name\n",
        "\n",
        "c1=toyata(\"Car1\")\n",
        "c2=toyata(\"Car2\")\n",
        "c1.start()"
      ],
      "metadata": {
        "colab": {
          "base_uri": "https://localhost:8080/"
        },
        "id": "nQnTk1KggBCS",
        "outputId": "239f5cd8-8e1e-43f2-ff5a-f67bbf06f59d"
      },
      "execution_count": null,
      "outputs": [
        {
          "output_type": "stream",
          "name": "stdout",
          "text": [
            "car started\n",
            "None\n"
          ]
        }
      ]
    }
  ]
}