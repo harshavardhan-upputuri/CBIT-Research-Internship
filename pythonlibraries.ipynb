{
  "nbformat": 4,
  "nbformat_minor": 0,
  "metadata": {
    "colab": {
      "provenance": []
    },
    "kernelspec": {
      "name": "python3",
      "display_name": "Python 3"
    },
    "language_info": {
      "name": "python"
    }
  },
  "cells": [
    {
      "cell_type": "markdown",
      "source": [
        "  **numpy**\n",
        "\n"
      ],
      "metadata": {
        "id": "8xbc_INFI-uK"
      }
    },
    {
      "cell_type": "code",
      "execution_count": 2,
      "metadata": {
        "colab": {
          "base_uri": "https://localhost:8080/"
        },
        "id": "RmBy1sX62zXU",
        "outputId": "887a60a4-09be-455d-fb25-a169a25b7e34"
      },
      "outputs": [
        {
          "output_type": "stream",
          "name": "stdout",
          "text": [
            "[200 300 400]\n",
            "[20 30 40]\n"
          ]
        }
      ],
      "source": [
        "import numpy as np\n",
        "a=np.array([20,30,40])\n",
        "b=np.array([10])\n",
        "print(b*a)\n",
        "print(a[:])"
      ]
    },
    {
      "cell_type": "code",
      "source": [
        "arr=np.array([[10,20,30],[30,40,50]])\n",
        "print(arr[0:2,0:2])\n",
        "print(np.shape(arr))\n",
        "print(np.size(arr))\n",
        "print(np.ndim(arr))\n",
        "print(len(arr))\n",
        "print(type(arr))\n",
        "print(arr.dtype)\n",
        "print(arr.astype(float))"
      ],
      "metadata": {
        "colab": {
          "base_uri": "https://localhost:8080/"
        },
        "id": "5U8D3EoSI9zf",
        "outputId": "94464483-d080-49ed-9453-0c7d59b1fd19"
      },
      "execution_count": 5,
      "outputs": [
        {
          "output_type": "stream",
          "name": "stdout",
          "text": [
            "[[10 20]\n",
            " [30 40]]\n",
            "(2, 3)\n",
            "6\n",
            "2\n",
            "2\n",
            "<class 'numpy.ndarray'>\n",
            "int64\n",
            "[[10. 20. 30.]\n",
            " [30. 40. 50.]]\n"
          ]
        }
      ]
    },
    {
      "cell_type": "code",
      "source": [
        "a=np.array([30,40,50,60])\n",
        "b=np.array([30,20,40,60])\n",
        "print(np.add(a,b))\n",
        "print(np.subtract(a,b))\n",
        "print(np.multiply(a,b))\n",
        "print(np.divide(a,b))\n",
        "print(np.exp(a))\n",
        "print(np.sqrt(b))\n",
        "print(np.pow(a,b))"
      ],
      "metadata": {
        "id": "m9PjrNP1JyRX",
        "colab": {
          "base_uri": "https://localhost:8080/"
        },
        "outputId": "b88a6ff0-3553-408f-e52c-52975863ec4f"
      },
      "execution_count": 7,
      "outputs": [
        {
          "output_type": "stream",
          "name": "stdout",
          "text": [
            "[ 60  60  90 120]\n",
            "[ 0 20 10  0]\n",
            "[ 900  800 2000 3600]\n",
            "[1.   2.   1.25 1.  ]\n",
            "[1.06864746e+13 2.35385267e+17 5.18470553e+21 1.14200739e+26]\n",
            "[5.47722558 4.47213595 6.32455532 7.74596669]\n",
            "[2565992168703393792 1152921504606846976 7263955454739349504\n",
            "                   0]\n"
          ]
        }
      ]
    },
    {
      "cell_type": "code",
      "source": [
        "a=np.array([[30,50],[50,10]])\n",
        "b=np.array([[50,10],[3,3]])\n",
        "print(np.concatenate([a,b],axis=0))\n",
        "print()\n",
        "print(np.concatenate([a,b],axis=1))\n",
        "print()\n",
        "print(np.vstack([a,b]))\n",
        "print()\n",
        "print(np.hstack([a,b]))\n"
      ],
      "metadata": {
        "colab": {
          "base_uri": "https://localhost:8080/"
        },
        "id": "AeveJxb8eNCQ",
        "outputId": "73bfc15a-0162-4864-ebc0-c860574c2c80"
      },
      "execution_count": 13,
      "outputs": [
        {
          "output_type": "stream",
          "name": "stdout",
          "text": [
            "[[30 50]\n",
            " [50 10]\n",
            " [50 10]\n",
            " [ 3  3]]\n",
            "\n",
            "[[30 50 50 10]\n",
            " [50 10  3  3]]\n",
            "\n",
            "[[30 50]\n",
            " [50 10]\n",
            " [50 10]\n",
            " [ 3  3]]\n",
            "\n",
            "[[30 50 50 10]\n",
            " [50 10  3  3]]\n"
          ]
        }
      ]
    },
    {
      "cell_type": "code",
      "source": [
        "a=np.array([[30,50],[50,10]])\n",
        "print(np.append(a,[60,70]))"
      ],
      "metadata": {
        "colab": {
          "base_uri": "https://localhost:8080/"
        },
        "id": "-b0r6dR3jp_z",
        "outputId": "ec8c37f6-a08f-4bd9-caed-bb8176ba6950"
      },
      "execution_count": 15,
      "outputs": [
        {
          "output_type": "stream",
          "name": "stdout",
          "text": [
            "[30 50 50 10 60 70]\n"
          ]
        }
      ]
    },
    {
      "cell_type": "code",
      "source": [
        "a=np.array([[30,50],[50,10]])\n",
        "print(np.insert(a,4,[60,70]))"
      ],
      "metadata": {
        "colab": {
          "base_uri": "https://localhost:8080/"
        },
        "id": "h-ASWHfUjqtn",
        "outputId": "f30b84dd-7170-4363-e0ec-0310f902c597"
      },
      "execution_count": 21,
      "outputs": [
        {
          "output_type": "stream",
          "name": "stdout",
          "text": [
            "[30 50 50 10 60 70]\n"
          ]
        }
      ]
    },
    {
      "cell_type": "code",
      "source": [
        "a=np.array([[30,50],[50,10]])\n",
        "print(np.delete(a,[1,2,3]))"
      ],
      "metadata": {
        "colab": {
          "base_uri": "https://localhost:8080/"
        },
        "id": "fOl_arVyj_Ef",
        "outputId": "7085524f-536f-44e7-cc36-d12911d5fc0d"
      },
      "execution_count": 29,
      "outputs": [
        {
          "output_type": "stream",
          "name": "stdout",
          "text": [
            "[30]\n"
          ]
        }
      ]
    },
    {
      "cell_type": "code",
      "source": [
        "a=np.array([20,2,6,1,5])\n",
        "print(np.sort(a))\n",
        "ar=np.array([[20,10],[50,30]])\n",
        "print(np.sort(ar,axis=0)) #vertical sorting\n",
        "print(np.sort(ar,axis=1)) #horzi sorting"
      ],
      "metadata": {
        "colab": {
          "base_uri": "https://localhost:8080/"
        },
        "id": "lRlCPMNblUnu",
        "outputId": "ece6f0ee-e310-45e5-ad65-7261cb765354"
      },
      "execution_count": 36,
      "outputs": [
        {
          "output_type": "stream",
          "name": "stdout",
          "text": [
            "[ 1  2  5  6 20]\n",
            "[[20 10]\n",
            " [50 30]]\n",
            "[[10 20]\n",
            " [30 50]]\n"
          ]
        }
      ]
    },
    {
      "cell_type": "code",
      "source": [
        "a=np.array([3,4,1,5,6,7])\n",
        "print(np.where(a==3)) #give index\n",
        "print(np.where(a%2==0)) #give indexes"
      ],
      "metadata": {
        "colab": {
          "base_uri": "https://localhost:8080/"
        },
        "id": "cr1VcSUmlxye",
        "outputId": "87e8878f-dd9d-4f57-a8dc-65a3aefc3333"
      },
      "execution_count": 40,
      "outputs": [
        {
          "output_type": "stream",
          "name": "stdout",
          "text": [
            "(array([0]),)\n",
            "(array([1, 4]),)\n"
          ]
        }
      ]
    },
    {
      "cell_type": "code",
      "source": [
        "a=np.array([3,4,1,5,6,7])\n",
        "print(np.searchsorted(a,5))"
      ],
      "metadata": {
        "colab": {
          "base_uri": "https://localhost:8080/"
        },
        "id": "RrY3tUK8ney4",
        "outputId": "98c95822-a13c-4905-966b-fb04813c0ff2"
      },
      "execution_count": 42,
      "outputs": [
        {
          "output_type": "stream",
          "name": "stdout",
          "text": [
            "3\n"
          ]
        }
      ]
    },
    {
      "cell_type": "code",
      "source": [
        "a=np.array([20,30,40,50])  #filter\n",
        "fa=[True,False,True,False]\n",
        "new = a[fa]\n",
        "print(new)"
      ],
      "metadata": {
        "colab": {
          "base_uri": "https://localhost:8080/"
        },
        "id": "CAZAoSBIoMX3",
        "outputId": "c7f38034-00b3-4d41-8bb7-b1a56894bb62"
      },
      "execution_count": 43,
      "outputs": [
        {
          "output_type": "stream",
          "name": "stdout",
          "text": [
            "[20 40]\n"
          ]
        }
      ]
    },
    {
      "cell_type": "code",
      "source": [
        "a=np.array([20,30,40,50])  #filter\n",
        "fa=a>30\n",
        "new = a[fa]\n",
        "print(new)"
      ],
      "metadata": {
        "colab": {
          "base_uri": "https://localhost:8080/"
        },
        "id": "VFuBLbmLolq1",
        "outputId": "038b9ef0-6421-4014-8dae-d124754195ca"
      },
      "execution_count": 44,
      "outputs": [
        {
          "output_type": "stream",
          "name": "stdout",
          "text": [
            "[40 50]\n"
          ]
        }
      ]
    },
    {
      "cell_type": "code",
      "source": [
        "#aggregating functions\n",
        "#sum\n",
        "a=np.array([20,40,60,70])\n",
        "print(np.sum(a))\n",
        "#min\n",
        "print(np.min(a))\n",
        "#max\n",
        "print(np.max(a))\n",
        "#size\n",
        "print(np.size(a))\n",
        "#mean\n",
        "print(np.mean(a))\n",
        "#cumsum\n",
        "print(np.cumsum(a))\n",
        "#cumprod\n",
        "print(np.cumprod(a))"
      ],
      "metadata": {
        "colab": {
          "base_uri": "https://localhost:8080/"
        },
        "id": "z27XM3RCpOSq",
        "outputId": "a0239be5-8501-4f27-a459-ae18f60196e6"
      },
      "execution_count": 50,
      "outputs": [
        {
          "output_type": "stream",
          "name": "stdout",
          "text": [
            "190\n",
            "20\n",
            "70\n",
            "4\n",
            "47.5\n",
            "[ 20  60 120 190]\n",
            "[     20     800   48000 3360000]\n"
          ]
        }
      ]
    },
    {
      "cell_type": "code",
      "source": [
        "a=np.array([20,40,60,70,80,90])\n",
        "b=np.array([ 1,2,3,4,5,6])\n",
        "print(np.cumsum([a,b]))\n",
        "print(np.cumprod([a,b],axis=0))\n"
      ],
      "metadata": {
        "colab": {
          "base_uri": "https://localhost:8080/"
        },
        "id": "3U6-ll4ZpRSJ",
        "outputId": "bb847a47-50d2-4f73-b521-f885d364cf3c"
      },
      "execution_count": 56,
      "outputs": [
        {
          "output_type": "stream",
          "name": "stdout",
          "text": [
            "[ 20  60 120 190 270 360 361 363 366 370 375 381]\n",
            "[[ 20  40  60  70  80  90]\n",
            " [ 20  80 180 280 400 540]]\n"
          ]
        }
      ]
    },
    {
      "cell_type": "code",
      "source": [
        "import statistics as stats\n",
        "a=np.array([200,300,150,130,280,170,188])\n",
        "print(stats.mode(a))\n",
        "print(stats.mean(a))\n",
        "print(stats.median(a))\n",
        "print(np.std(a))\n",
        "print(np.var(a))"
      ],
      "metadata": {
        "colab": {
          "base_uri": "https://localhost:8080/"
        },
        "id": "-OTKcQxutiL1",
        "outputId": "86521b85-2618-40ce-bbb6-536b9c15de94"
      },
      "execution_count": 64,
      "outputs": [
        {
          "output_type": "stream",
          "name": "stdout",
          "text": [
            "200\n",
            "202\n",
            "188\n",
            "59.519161723304684\n",
            "3542.530612244898\n"
          ]
        }
      ]
    },
    {
      "cell_type": "markdown",
      "source": [
        "#                       **Pandans**\n"
      ],
      "metadata": {
        "id": "1ndsjq91Afjc"
      }
    },
    {
      "cell_type": "code",
      "source": [
        "import pandas as pd\n",
        "\n",
        "data={\"Name\":[\"John\",\"Van\",\"ron\"],\n",
        "    \"Age\":[30,40,50],\n",
        "    \"Salary\":[30000,40000,50000]}\n",
        "df=pd.DataFrame(data)\n",
        "print(df)"
      ],
      "metadata": {
        "colab": {
          "base_uri": "https://localhost:8080/"
        },
        "id": "P03ORwdZAx4z",
        "outputId": "033e8548-b91e-41d2-f536-cdb566ae1032"
      },
      "execution_count": 72,
      "outputs": [
        {
          "output_type": "stream",
          "name": "stdout",
          "text": [
            "   Name  Age  Salary\n",
            "0  John   30   30000\n",
            "1   Van   40   40000\n",
            "2   ron   50   50000\n"
          ]
        }
      ]
    },
    {
      "cell_type": "code",
      "source": [
        "data=pd.read_excel(\"expense3.xlsx\")\n",
        "# print(data)\n",
        "print(data.head(5))\n",
        "print(data.tail(5))\n",
        "print(data.info())"
      ],
      "metadata": {
        "colab": {
          "base_uri": "https://localhost:8080/"
        },
        "id": "SD0F-zS2DiSs",
        "outputId": "7bcd0095-4a2c-4f0f-d2e1-34507b745b70"
      },
      "execution_count": 78,
      "outputs": [
        {
          "output_type": "stream",
          "name": "stdout",
          "text": [
            "        Date    Category Sub-Category   Amount Payment Mode\n",
            "0 2023-01-01     Grocery       Grocery      30         Cash\n",
            "1 2023-01-02        Food    Restaurant     890          UPI\n",
            "2 2023-01-04         123        Zomato     257          NaN\n",
            "3 2023-01-06  Essentials         Diary     120          UPI\n",
            "4 2023-01-06  Essentials       Perfume    1500         Cash\n",
            "         Date    Category Sub-Category   Amount Payment Mode\n",
            "24 2023-01-27        Food          Chai      10          UPI\n",
            "25 2023-01-28  Essentials     Bedsheets    1025         Cash\n",
            "26 2023-01-29       Bills       Mobile     1650          UPI\n",
            "27 2023-01-29     Grocery          Daal     150         Cash\n",
            "28 2023-01-30       Bills      Cylinder    1074          UPI\n",
            "<class 'pandas.core.frame.DataFrame'>\n",
            "RangeIndex: 29 entries, 0 to 28\n",
            "Data columns (total 5 columns):\n",
            " #   Column         Non-Null Count  Dtype         \n",
            "---  ------         --------------  -----         \n",
            " 0   Date           29 non-null     datetime64[ns]\n",
            " 1   Category       29 non-null     object        \n",
            " 2   Sub-Category   29 non-null     object        \n",
            " 3   Amount         29 non-null     int64         \n",
            " 4   Payment Mode   25 non-null     object        \n",
            "dtypes: datetime64[ns](1), int64(1), object(3)\n",
            "memory usage: 1.3+ KB\n",
            "None\n"
          ]
        }
      ]
    },
    {
      "cell_type": "code",
      "source": [
        "print(data.describe())\n"
      ],
      "metadata": {
        "colab": {
          "base_uri": "https://localhost:8080/"
        },
        "id": "WSJVxxeBENFP",
        "outputId": "cd783b43-1d59-47d0-8473-c40f9a1ce62b"
      },
      "execution_count": 80,
      "outputs": [
        {
          "output_type": "stream",
          "name": "stdout",
          "text": [
            "                                Date        Amount\n",
            "count                             29     29.000000\n",
            "mean   2023-01-17 19:02:04.137931008   1039.620690\n",
            "min              2023-01-01 00:00:00     10.000000\n",
            "25%              2023-01-10 00:00:00     70.000000\n",
            "50%              2023-01-19 00:00:00    257.000000\n",
            "75%              2023-01-26 00:00:00    890.000000\n",
            "max              2023-01-30 00:00:00  16000.000000\n",
            "std                              NaN   2927.684353\n"
          ]
        }
      ]
    },
    {
      "cell_type": "code",
      "source": [
        "print(data.isnull().sum())"
      ],
      "metadata": {
        "colab": {
          "base_uri": "https://localhost:8080/"
        },
        "id": "0pESHx73FiwW",
        "outputId": "90701162-45ab-441f-e746-fd643b8225db"
      },
      "execution_count": 81,
      "outputs": [
        {
          "output_type": "stream",
          "name": "stdout",
          "text": [
            "Date             0\n",
            "Category         0\n",
            "Sub-Category     0\n",
            "Amount           0\n",
            "Payment Mode     4\n",
            "dtype: int64\n"
          ]
        }
      ]
    },
    {
      "cell_type": "code",
      "source": [
        "# print(data.duplicated())\n",
        "print(data.duplicated().sum())\n",
        "print(data[[\"Category\",\"Sub-Category \"]].duplicated().sum())\n",
        "print(data[\"Sub-Category \"].duplicated().sum())\n",
        "print(data[\"Category\"].duplicated().sum())"
      ],
      "metadata": {
        "colab": {
          "base_uri": "https://localhost:8080/"
        },
        "id": "Q4XHRkOrHyxV",
        "outputId": "0db3821d-1ce3-4956-d9d6-0f25f833aad8"
      },
      "execution_count": 95,
      "outputs": [
        {
          "output_type": "stream",
          "name": "stdout",
          "text": [
            "0\n",
            "5\n",
            "7\n",
            "23\n"
          ]
        }
      ]
    },
    {
      "cell_type": "code",
      "source": [
        "print(data.drop_duplicates(\"Category\"))"
      ],
      "metadata": {
        "colab": {
          "base_uri": "https://localhost:8080/"
        },
        "id": "MT56X8E9J05c",
        "outputId": "eba2c36d-cdf8-43f5-e9a4-c729e9521ab0"
      },
      "execution_count": 94,
      "outputs": [
        {
          "output_type": "stream",
          "name": "stdout",
          "text": [
            "         Date    Category Sub-Category   Amount Payment Mode\n",
            "0  2023-01-01     Grocery       Grocery      30         Cash\n",
            "1  2023-01-02        Food    Restaurant     890          UPI\n",
            "2  2023-01-04         123        Zomato     257          NaN\n",
            "3  2023-01-06  Essentials         Diary     120          UPI\n",
            "6  2023-01-10       Bills    House Rent   16000          UPI\n",
            "17 2023-01-21     Clothes         Dress    1000          NaN\n"
          ]
        }
      ]
    },
    {
      "cell_type": "code",
      "source": [
        "print(data.isnull())"
      ],
      "metadata": {
        "colab": {
          "base_uri": "https://localhost:8080/"
        },
        "id": "lC9AVkIzMXYV",
        "outputId": "4d9b7abd-70a5-4510-d0c2-811b63ca93fe"
      },
      "execution_count": 97,
      "outputs": [
        {
          "output_type": "stream",
          "name": "stdout",
          "text": [
            "     Date  Category  Sub-Category   Amount  Payment Mode\n",
            "0   False     False          False   False         False\n",
            "1   False     False          False   False         False\n",
            "2   False     False          False   False          True\n",
            "3   False     False          False   False         False\n",
            "4   False     False          False   False         False\n",
            "5   False     False          False   False         False\n",
            "6   False     False          False   False         False\n",
            "7   False     False          False   False         False\n",
            "8   False     False          False   False         False\n",
            "9   False     False          False   False          True\n",
            "10  False     False          False   False         False\n",
            "11  False     False          False   False         False\n",
            "12  False     False          False   False          True\n",
            "13  False     False          False   False         False\n",
            "14  False     False          False   False         False\n",
            "15  False     False          False   False         False\n",
            "16  False     False          False   False         False\n",
            "17  False     False          False   False          True\n",
            "18  False     False          False   False         False\n",
            "19  False     False          False   False         False\n",
            "20  False     False          False   False         False\n",
            "21  False     False          False   False         False\n",
            "22  False     False          False   False         False\n",
            "23  False     False          False   False         False\n",
            "24  False     False          False   False         False\n",
            "25  False     False          False   False         False\n",
            "26  False     False          False   False         False\n",
            "27  False     False          False   False         False\n",
            "28  False     False          False   False         False\n"
          ]
        }
      ]
    },
    {
      "cell_type": "code",
      "source": [
        "print(data.replace(np.nan,\"Harsha\"))"
      ],
      "metadata": {
        "colab": {
          "base_uri": "https://localhost:8080/"
        },
        "id": "3EhycznYMi3A",
        "outputId": "e591ff2d-e0c5-4ef5-edfe-6e0dd6c74934"
      },
      "execution_count": 98,
      "outputs": [
        {
          "output_type": "stream",
          "name": "stdout",
          "text": [
            "         Date    Category       Sub-Category   Amount Payment Mode\n",
            "0  2023-01-01     Grocery             Grocery      30         Cash\n",
            "1  2023-01-02        Food          Restaurant     890          UPI\n",
            "2  2023-01-04         123              Zomato     257       Harsha\n",
            "3  2023-01-06  Essentials               Diary     120          UPI\n",
            "4  2023-01-06  Essentials             Perfume    1500         Cash\n",
            "5  2023-01-09     Grocery  Fruits and Veggies     456         Cash\n",
            "6  2023-01-10       Bills          House Rent   16000          UPI\n",
            "7  2023-01-10     Grocery      Tomato KetchUp      70          UPI\n",
            "8  2023-01-12        Food                Chai      15          UPI\n",
            "9  2023-01-15  Essentials      Salt and Sugar      50       Harsha\n",
            "10 2023-01-17     Grocery           Chocolate     100          UPI\n",
            "11 2023-01-17        Food          Restaurant     780         Card\n",
            "12 2023-01-18  Essentials            Food Oil     120       Harsha\n",
            "13 2023-01-18        Food              Zomato     230          UPI\n",
            "14 2023-01-19     Grocery                Milk      26          UPI\n",
            "15 2023-01-20  Essentials             Shampoo     780          UPI\n",
            "16 2023-01-20  Essentials           Lunch Box     890         Cash\n",
            "17 2023-01-21     Clothes               Dress    1000       Harsha\n",
            "18 2023-01-22     Clothes               Dress    1890          UPI\n",
            "19 2023-01-23     Grocery      Bread and Milk      56         Cash\n",
            "20 2023-01-24        Food  Fruits and Veggies     530         Cash\n",
            "21 2023-01-26        Food                Chai      10          UPI\n",
            "22 2023-01-26     Grocery               Maggi     140          UPI\n",
            "23 2023-01-27        Food              Zomato     300          UPI\n",
            "24 2023-01-27        Food                Chai      10          UPI\n",
            "25 2023-01-28  Essentials           Bedsheets    1025         Cash\n",
            "26 2023-01-29       Bills             Mobile     1650          UPI\n",
            "27 2023-01-29     Grocery                Daal     150         Cash\n",
            "28 2023-01-30       Bills            Cylinder    1074          UPI\n"
          ]
        }
      ]
    },
    {
      "cell_type": "code",
      "source": [
        "print(data.columns)\n",
        "data.loc[(data['Amount']<100),\"Harsha\"]=\"Below 100\"\n",
        "data.loc[(data['Amount']>100),\"Harsha\"]=\"Above 100\"\n",
        "print(data)"
      ],
      "metadata": {
        "colab": {
          "base_uri": "https://localhost:8080/"
        },
        "id": "KUPrNBM7WZgn",
        "outputId": "e524899b-db74-4d3c-8563-962498779af6"
      },
      "execution_count": 103,
      "outputs": [
        {
          "output_type": "stream",
          "name": "stdout",
          "text": [
            "Index(['Date', 'Category', 'Sub-Category ', 'Amount', 'Payment Mode'], dtype='object')\n",
            "         Date    Category       Sub-Category   Amount Payment Mode     Harsha\n",
            "0  2023-01-01     Grocery             Grocery      30         Cash  Below 100\n",
            "1  2023-01-02        Food          Restaurant     890          UPI  Above 100\n",
            "2  2023-01-04         123              Zomato     257          NaN  Above 100\n",
            "3  2023-01-06  Essentials               Diary     120          UPI  Above 100\n",
            "4  2023-01-06  Essentials             Perfume    1500         Cash  Above 100\n",
            "5  2023-01-09     Grocery  Fruits and Veggies     456         Cash  Above 100\n",
            "6  2023-01-10       Bills          House Rent   16000          UPI  Above 100\n",
            "7  2023-01-10     Grocery      Tomato KetchUp      70          UPI  Below 100\n",
            "8  2023-01-12        Food                Chai      15          UPI  Below 100\n",
            "9  2023-01-15  Essentials      Salt and Sugar      50          NaN  Below 100\n",
            "10 2023-01-17     Grocery           Chocolate     100          UPI        NaN\n",
            "11 2023-01-17        Food          Restaurant     780         Card  Above 100\n",
            "12 2023-01-18  Essentials            Food Oil     120          NaN  Above 100\n",
            "13 2023-01-18        Food              Zomato     230          UPI  Above 100\n",
            "14 2023-01-19     Grocery                Milk      26          UPI  Below 100\n",
            "15 2023-01-20  Essentials             Shampoo     780          UPI  Above 100\n",
            "16 2023-01-20  Essentials           Lunch Box     890         Cash  Above 100\n",
            "17 2023-01-21     Clothes               Dress    1000          NaN  Above 100\n",
            "18 2023-01-22     Clothes               Dress    1890          UPI  Above 100\n",
            "19 2023-01-23     Grocery      Bread and Milk      56         Cash  Below 100\n",
            "20 2023-01-24        Food  Fruits and Veggies     530         Cash  Above 100\n",
            "21 2023-01-26        Food                Chai      10          UPI  Below 100\n",
            "22 2023-01-26     Grocery               Maggi     140          UPI  Above 100\n",
            "23 2023-01-27        Food              Zomato     300          UPI  Above 100\n",
            "24 2023-01-27        Food                Chai      10          UPI  Below 100\n",
            "25 2023-01-28  Essentials           Bedsheets    1025         Cash  Above 100\n",
            "26 2023-01-29       Bills             Mobile     1650          UPI  Above 100\n",
            "27 2023-01-29     Grocery                Daal     150         Cash  Above 100\n",
            "28 2023-01-30       Bills            Cylinder    1074          UPI  Above 100\n"
          ]
        }
      ]
    },
    {
      "cell_type": "code",
      "source": [
        "df=pd.read_csv('company1.csv')\n",
        "df[\"salary\"] = df[\"salary\"].fillna(30000)\n",
        "df.to_csv('company1.csv', index=False)\n",
        "# print(df)\n",
        "df[\"Bonus\"]=(df['salary']/100)*20\n",
        "print(df)"
      ],
      "metadata": {
        "colab": {
          "base_uri": "https://localhost:8080/"
        },
        "id": "3E5NytAIZRz2",
        "outputId": "cb64befb-e998-4fcf-f27e-f7de074be7d0"
      },
      "execution_count": 122,
      "outputs": [
        {
          "output_type": "stream",
          "name": "stdout",
          "text": [
            "    EEID      Name gender   salary   Bonus\n",
            "0  EMP01    ayushi      F  30000.0  6000.0\n",
            "1  EMP02     rohit      M  25000.0  5000.0\n",
            "2  EMP03  pranjali    NaN  27000.0  5400.0\n",
            "3  EMP01    ayushi      F  20000.0  4000.0\n",
            "4  EMP05       NaN      M  25000.0  5000.0\n",
            "5  EMP06     rohit      M  30000.0  6000.0\n",
            "6  EMP02     rohit      M  25000.0  5000.0\n"
          ]
        }
      ]
    },
    {
      "cell_type": "code",
      "source": [
        "data={\"Months\":[\"January\",\"February\",\"March\",\"April\"]}\n",
        "a=pd.DataFrame(data)\n",
        "# print(a)\n",
        "def extract(value):\n",
        "  return value[0:3]\n",
        "a[\"short_months\"]=a[\"Months\"].map(extract)\n",
        "print(a)"
      ],
      "metadata": {
        "colab": {
          "base_uri": "https://localhost:8080/"
        },
        "id": "5hHwhdvGboUi",
        "outputId": "01274108-6de8-4b23-c748-39cc9f78b5d7"
      },
      "execution_count": 128,
      "outputs": [
        {
          "output_type": "stream",
          "name": "stdout",
          "text": [
            "     Months short_months\n",
            "0   January          Jan\n",
            "1  February          Feb\n",
            "2     March          Mar\n",
            "3     April          Apr\n"
          ]
        }
      ]
    },
    {
      "cell_type": "code",
      "source": [
        "df=pd.read_csv('company1.csv')\n",
        "print(df)\n",
        "\n",
        "gp=df.groupby(\"EEID\").agg({\"salary\":\"mean\"})\n",
        "print(gp)\n",
        "gp=df.groupby([\"EEID\",\"gender\"]).agg({\"salary\":\"mean\"})\n",
        "print(gp)"
      ],
      "metadata": {
        "colab": {
          "base_uri": "https://localhost:8080/"
        },
        "id": "s_QLsOmiejci",
        "outputId": "5d2ae418-fff8-4416-f46f-ab590f8347fb"
      },
      "execution_count": 138,
      "outputs": [
        {
          "output_type": "stream",
          "name": "stdout",
          "text": [
            "    EEID      Name gender   salary\n",
            "0  EMP01    ayushi      F  30000.0\n",
            "1  EMP02     rohit      M  25000.0\n",
            "2  EMP03  pranjali    NaN  27000.0\n",
            "3  EMP01    ayushi      F  20000.0\n",
            "4  EMP05       NaN      M  25000.0\n",
            "5  EMP06     rohit      M  30000.0\n",
            "6  EMP02     rohit      M  25000.0\n",
            "        salary\n",
            "EEID          \n",
            "EMP01  25000.0\n",
            "EMP02  25000.0\n",
            "EMP03  27000.0\n",
            "EMP05  25000.0\n",
            "EMP06  30000.0\n",
            "               salary\n",
            "EEID  gender         \n",
            "EMP01 F       25000.0\n",
            "EMP02 M       25000.0\n",
            "EMP05 M       25000.0\n",
            "EMP06 M       30000.0\n"
          ]
        }
      ]
    },
    {
      "cell_type": "code",
      "source": [
        "\n",
        "data1={\"Emp Id\": [\"E01\", \"Ε08\", \"Ε03\", \"Ε04\", \"Ε05\", \"Ε06\"],\n",
        "       \"Names\":[\"Ram\", \"Shyam\", \"Rahul\", \"Vishal\", \"Ravi\", \"John\"],\n",
        "       \"Age\" : [34,56,23,44,32,36]}\n",
        "data2 ={\"Emp Id\":[\"E01\", \"Ε07\", \"Ε03\", \"Ε04\", \"Ε05\", \"Ε06\"],\n",
        "        \"Salary\": [45000, 56000, 34000, 30000,50000,60000]}\n",
        "df1= pd.DataFrame(data1)\n",
        "df2 =pd.DataFrame(data2)\n",
        "print(df1)\n",
        "print()\n",
        "print(df2)\n",
        "\n"
      ],
      "metadata": {
        "colab": {
          "base_uri": "https://localhost:8080/"
        },
        "id": "6yKsFV-wiruc",
        "outputId": "ec97b564-8a9b-41c8-e522-beacebe29d3d"
      },
      "execution_count": 142,
      "outputs": [
        {
          "output_type": "stream",
          "name": "stdout",
          "text": [
            "  Emp Id   Names  Age\n",
            "0    E01     Ram   34\n",
            "1    Ε08   Shyam   56\n",
            "2    Ε03   Rahul   23\n",
            "3    Ε04  Vishal   44\n",
            "4    Ε05    Ravi   32\n",
            "5    Ε06    John   36\n",
            "\n",
            "  Emp Id  Salary\n",
            "0    E01   45000\n",
            "1    Ε07   56000\n",
            "2    Ε03   34000\n",
            "3    Ε04   30000\n",
            "4    Ε05   50000\n",
            "5    Ε06   60000\n"
          ]
        }
      ]
    },
    {
      "cell_type": "code",
      "source": [
        "print(pd.merge(df1,df2,on=\"Emp Id\",how=\"left\"))"
      ],
      "metadata": {
        "colab": {
          "base_uri": "https://localhost:8080/"
        },
        "id": "NwyoajkEjQUy",
        "outputId": "819d69b1-e386-4d18-f30d-94004ef540db"
      },
      "execution_count": 143,
      "outputs": [
        {
          "output_type": "stream",
          "name": "stdout",
          "text": [
            "  Emp Id   Names  Age   Salary\n",
            "0    E01     Ram   34  45000.0\n",
            "1    Ε08   Shyam   56      NaN\n",
            "2    Ε03   Rahul   23  34000.0\n",
            "3    Ε04  Vishal   44  30000.0\n",
            "4    Ε05    Ravi   32  50000.0\n",
            "5    Ε06    John   36  60000.0\n"
          ]
        }
      ]
    },
    {
      "cell_type": "code",
      "source": [
        "print(pd.merge(df1,df2,on=\"Emp Id\",how=\"inner\"))"
      ],
      "metadata": {
        "colab": {
          "base_uri": "https://localhost:8080/"
        },
        "id": "pHgMro7GkS2I",
        "outputId": "d7c35474-714e-45b7-e31b-8730c4da6b78"
      },
      "execution_count": 145,
      "outputs": [
        {
          "output_type": "stream",
          "name": "stdout",
          "text": [
            "  Emp Id   Names  Age  Salary\n",
            "0    E01     Ram   34   45000\n",
            "1    Ε03   Rahul   23   34000\n",
            "2    Ε04  Vishal   44   30000\n",
            "3    Ε05    Ravi   32   50000\n",
            "4    Ε06    John   36   60000\n"
          ]
        }
      ]
    },
    {
      "cell_type": "code",
      "source": [
        "print(pd.merge(df1,df2,on=\"Emp Id\",how=\"right\"))"
      ],
      "metadata": {
        "colab": {
          "base_uri": "https://localhost:8080/"
        },
        "id": "huWu0iiAkQ2I",
        "outputId": "329e1a4a-0741-44b0-928b-0ff26d26732c"
      },
      "execution_count": 144,
      "outputs": [
        {
          "output_type": "stream",
          "name": "stdout",
          "text": [
            "  Emp Id   Names   Age  Salary\n",
            "0    E01     Ram  34.0   45000\n",
            "1    Ε07     NaN   NaN   56000\n",
            "2    Ε03   Rahul  23.0   34000\n",
            "3    Ε04  Vishal  44.0   30000\n",
            "4    Ε05    Ravi  32.0   50000\n",
            "5    Ε06    John  36.0   60000\n"
          ]
        }
      ]
    },
    {
      "cell_type": "code",
      "source": [
        "data1={\"Emp Id\": [\"E01\", \"Ε08\", \"Ε03\", \"Ε04\", \"Ε05\", \"Ε06\"],\n",
        "       \"Names\":[\"Ram\", \"Shyam\", \"Rahul\", \"Vishal\", \"Ravi\", \"John\"],\n",
        "       \"Age\" : [34,56,23,44,32,36]}\n",
        "data2 = {\n",
        "    \"Emp Id\": [\"E11\", \"E12\", \"E13\", \"E14\", \"E15\", \"E16\"],\n",
        "    \"Names\": [\"Aman\", \"Sohan\", \"Karan\", \"Mohan\", \"Neha\", \"Tina\"],\n",
        "    \"Age\": [45, 29, 51, 38, 40, 27]\n",
        "}\n",
        "\n",
        "df1= pd.DataFrame(data1)\n",
        "df2 =pd.DataFrame(data2)\n",
        "\n",
        "# print(pd.concat([df1,df2]))\n",
        "print(pd.concat([df1,df2], ignore_index=True))\n"
      ],
      "metadata": {
        "colab": {
          "base_uri": "https://localhost:8080/"
        },
        "id": "HoyuadcGktXF",
        "outputId": "8904e654-4f12-4a6c-e9e0-6679f312a298"
      },
      "execution_count": 153,
      "outputs": [
        {
          "output_type": "stream",
          "name": "stdout",
          "text": [
            "   Emp Id   Names  Age\n",
            "0     E01     Ram   34\n",
            "1     Ε08   Shyam   56\n",
            "2     Ε03   Rahul   23\n",
            "3     Ε04  Vishal   44\n",
            "4     Ε05    Ravi   32\n",
            "5     Ε06    John   36\n",
            "6     E11    Aman   45\n",
            "7     E12   Sohan   29\n",
            "8     E13   Karan   51\n",
            "9     E14   Mohan   38\n",
            "10    E15    Neha   40\n",
            "11    E16    Tina   27\n"
          ]
        }
      ]
    },
    {
      "cell_type": "code",
      "source": [
        "result = df1.join(df2, lsuffix='_df1', rsuffix='_df2')\n",
        "print(result)"
      ],
      "metadata": {
        "colab": {
          "base_uri": "https://localhost:8080/"
        },
        "id": "FOqAzECKlzTc",
        "outputId": "929dc4a1-1fc7-4a9f-e550-ae9f39047b84"
      },
      "execution_count": 155,
      "outputs": [
        {
          "output_type": "stream",
          "name": "stdout",
          "text": [
            "  Emp Id_df1 Names_df1  Age_df1 Emp Id_df2 Names_df2  Age_df2\n",
            "0        E01       Ram       34        E11      Aman       45\n",
            "1        Ε08     Shyam       56        E12     Sohan       29\n",
            "2        Ε03     Rahul       23        E13     Karan       51\n",
            "3        Ε04    Vishal       44        E14     Mohan       38\n",
            "4        Ε05      Ravi       32        E15      Neha       40\n",
            "5        Ε06      John       36        E16      Tina       27\n"
          ]
        }
      ]
    },
    {
      "cell_type": "code",
      "source": [
        "dict ={\"Fruits\": [\"mango\", \"apples\", \"banana\", \"papaya\"],\n",
        "\"Price\": [100,150,50,35],\n",
        "\"Quantity\":[15,10,10,3]}\n",
        "df1 = pd.DataFrame(dict)\n",
        "print(df1)\n",
        "\n",
        "df2=df1.copy()\n",
        "df2.loc[0,\"Price\"]=120\n",
        "df2.loc[1,\"Price\"]=175\n",
        "df2.loc[3,\"Price\"]=30\n",
        "\n",
        "df2.loc[0,\"Quantity\"]=12\n",
        "df2.loc[1,\"Quantity\"]=15\n",
        "df2.loc[3,\"Quantity\"]=5\n",
        "print(df2)"
      ],
      "metadata": {
        "colab": {
          "base_uri": "https://localhost:8080/"
        },
        "id": "GkXpI0d8m6pi",
        "outputId": "9f397b93-1c19-4844-feb6-d58c43b34eec"
      },
      "execution_count": 161,
      "outputs": [
        {
          "output_type": "stream",
          "name": "stdout",
          "text": [
            "   Fruits  Price  Quantity\n",
            "0   mango    100        15\n",
            "1  apples    150        10\n",
            "2  banana     50        10\n",
            "3  papaya     35         3\n",
            "   Fruits  Price  Quantity\n",
            "0   mango    120        12\n",
            "1  apples    175        15\n",
            "2  banana     50        10\n",
            "3  papaya     30         5\n"
          ]
        }
      ]
    },
    {
      "cell_type": "code",
      "source": [
        "print(df1.compare(df2))\n",
        "print(df1.compare(df2,align_axis=0))"
      ],
      "metadata": {
        "colab": {
          "base_uri": "https://localhost:8080/"
        },
        "id": "xceiV4opoUzc",
        "outputId": "12e4d86e-48e1-4bee-acf5-69c098e95610"
      },
      "execution_count": 165,
      "outputs": [
        {
          "output_type": "stream",
          "name": "stdout",
          "text": [
            "   Price        Quantity      \n",
            "    self  other     self other\n",
            "0  100.0  120.0     15.0  12.0\n",
            "1  150.0  175.0     10.0  15.0\n",
            "3   35.0   30.0      3.0   5.0\n",
            "         Price  Quantity\n",
            "0 self   100.0      15.0\n",
            "  other  120.0      12.0\n",
            "1 self   150.0      10.0\n",
            "  other  175.0      15.0\n",
            "3 self    35.0       3.0\n",
            "  other   30.0       5.0\n"
          ]
        }
      ]
    },
    {
      "cell_type": "code",
      "source": [
        "dict = {\"keys\":[\"k1\", \"k2\", \"k1\", \"k2\"],\n",
        "\"Names\":[\"John\", \"Ben\", \"David\", \"Peter\"],\n",
        "\"Houses\":[\"red\", \"blue\", \"green\", \"red\"],\n",
        "\"Grades\":[\"3rd\",\"8th\",\"9th\",\"3rd\"]}\n",
        "df = pd.DataFrame(dict)\n",
        "print(df)\n",
        "print(df.pivot(index=\"keys\", columns=\"Names\", values=[\"Houses\",\"Grades\"]))"
      ],
      "metadata": {
        "colab": {
          "base_uri": "https://localhost:8080/"
        },
        "id": "uFCG83-SqDTZ",
        "outputId": "809440fc-25fd-4b0a-d38f-5db92cec9250"
      },
      "execution_count": 171,
      "outputs": [
        {
          "output_type": "stream",
          "name": "stdout",
          "text": [
            "  keys  Names Houses Grades\n",
            "0   k1   John    red    3rd\n",
            "1   k2    Ben   blue    8th\n",
            "2   k1  David  green    9th\n",
            "3   k2  Peter    red    3rd\n",
            "      Houses                   Grades                 \n",
            "Names    Ben  David John Peter    Ben David John Peter\n",
            "keys                                                  \n",
            "k1       NaN  green  red   NaN    NaN   9th  3rd   NaN\n",
            "k2      blue    NaN  NaN   red    8th   NaN  NaN   3rd\n"
          ]
        }
      ]
    },
    {
      "cell_type": "code",
      "source": [
        "print(pd.melt(df,id_vars=[\"Names\"],value_vars=[\"Houses\",\"Grades\"],var_name=\"Houses&Grades\", value_name=\"values\"))"
      ],
      "metadata": {
        "colab": {
          "base_uri": "https://localhost:8080/"
        },
        "id": "ZzbepvIGrxGL",
        "outputId": "2a5b7255-7c7b-4119-8167-a6bc0963af64"
      },
      "execution_count": 174,
      "outputs": [
        {
          "output_type": "stream",
          "name": "stdout",
          "text": [
            "   Names Houses&Grades values\n",
            "0   John        Houses    red\n",
            "1    Ben        Houses   blue\n",
            "2  David        Houses  green\n",
            "3  Peter        Houses    red\n",
            "4   John        Grades    3rd\n",
            "5    Ben        Grades    8th\n",
            "6  David        Grades    9th\n",
            "7  Peter        Grades    3rd\n"
          ]
        }
      ]
    },
    {
      "cell_type": "markdown",
      "source": [
        "# **Matplotlib**"
      ],
      "metadata": {
        "id": "LrY9w0NFCK1H"
      }
    },
    {
      "cell_type": "code",
      "source": [
        "import matplotlib.pyplot as plt\n",
        "import numpy as np\n",
        "import pandas as pd\n"
      ],
      "metadata": {
        "id": "Mm3bUVEoCQ8S"
      },
      "execution_count": 175,
      "outputs": []
    },
    {
      "cell_type": "code",
      "source": [
        "x=[0,1,2,3,4]\n",
        "y=[0,2,4,6,8]\n",
        "# Resize your Graph (dpi specifies pixels per inch. When saving probably should use 300 if possible)\n",
        "plt.figure(figsize=(3,3),dpi=200)\n",
        "# plt.plot(x,y,label=\"3x\",color=\"red\",linewidth=2,marker=\".\",markersize=10,markeredgecolor=\"blue\")\n",
        "plt.plot(x,y,'r.--',label=\"3x\")\n",
        "\n",
        "x2=np.arange(0,4.5,0.5)\n",
        "plt.plot(x2,x2**2,'r',label=\"x^2\")\n",
        "\n",
        "plt.title(\"Our first Graph\")\n",
        "plt.xlabel(\"X axis\")\n",
        "plt.ylabel(\"Y axis\")\n",
        "plt.xticks([0,1,2,3])\n",
        "plt.yticks([0,2,4,6,8,10])\n",
        "plt.legend()\n",
        "# Save figure (dpi 300 is good when saving so graph has high resolution)\n",
        "plt.savefig(\"mygraph.png\",dpi=300)\n",
        "\n",
        "plt.show()"
      ],
      "metadata": {
        "colab": {
          "base_uri": "https://localhost:8080/",
          "height": 472
        },
        "id": "1yHv1GBoCdMr",
        "outputId": "4d600a32-0c2f-4101-8599-6fb096bbbf44"
      },
      "execution_count": 217,
      "outputs": [
        {
          "output_type": "display_data",
          "data": {
            "text/plain": [
              "<Figure size 640x480 with 1 Axes>"
            ],
            "image/png": "[encoded data removed]"
          },
          "metadata": {}
        }
      ]
    },
    {
      "cell_type": "markdown",
      "source": [
        "# **Bar graph**"
      ],
      "metadata": {
        "id": "8FZr_tQRNKB7"
      }
    },
    {
      "cell_type": "code",
      "source": [
        "labels=['A','B','C']\n",
        "values=[1,4,2]\n",
        "bars=plt.bar(labels,values)\n",
        "patterns=['/','o','*']\n",
        "for bar in bars:\n",
        "  bar.set_hatch(patterns.pop(0))\n",
        "plt.figure(figsize=(6,4))\n",
        "plt.show()"
      ],
      "metadata": {
        "colab": {
          "base_uri": "https://localhost:8080/",
          "height": 447
        },
        "id": "x82fVMOFNOY6",
        "outputId": "f9890f20-84c4-4a6f-f6ff-94810e430cd7"
      },
      "execution_count": 224,
      "outputs": [
        {
          "output_type": "display_data",
          "data": {
            "text/plain": [
              "<Figure size 640x480 with 1 Axes>"
            ],
            "image/png": "[encoded data removed]"
          },
          "metadata": {}
        },
        {
          "output_type": "display_data",
          "data": {
            "text/plain": [
              "<Figure size 600x400 with 0 Axes>"
            ]
          },
          "metadata": {}
        }
      ]
    },
    {
      "cell_type": "markdown",
      "source": [
        "# **Real World Examples**"
      ],
      "metadata": {
        "id": "qO91Ku-4PpZD"
      }
    },
    {
      "cell_type": "markdown",
      "source": [
        "Line Graph\n"
      ],
      "metadata": {
        "id": "dsZH-ZMqP1by"
      }
    },
    {
      "cell_type": "code",
      "source": [
        "gas=pd.read_csv(\"gas_prices.csv\")\n",
        "\n",
        "plt.figure(figsize=(8,5))\n",
        "\n",
        "plt.title('Gas Prices over Time (in USD)', fontdict={'fontweight':'bold',\"fontsize\":\"18\"})\n",
        "\n",
        "plt.plot(gas.Year,gas.USA ,label='United States')\n",
        "plt.plot(gas.Year,gas.Canada,'r.-',label='Canada')\n",
        "plt.plot(gas.Year,gas[\"South Korea\"],'g.-',label='South Korea')\n",
        "plt.plot(gas.Year, gas.Australia ,'y.-',label='Aus')\n",
        "\n",
        "# Another Way to plot many values!\n",
        "# countries_to_look_at = ['Australia', 'USA', 'Canada', 'South Korea']\n",
        "# for country in gas:\n",
        "#     if country in countries_to_look_at:\n",
        "#         plt.plot(gas.Year, gas[country], marker='.')\n",
        "\n",
        "plt.xticks(gas.Year[::3].tolist()+[2011]) #every 3 years\n",
        "\n",
        "plt.xlabel('Year')\n",
        "plt.ylabel('US Dollars')\n",
        "plt.legend()\n",
        "plt.show()"
      ],
      "metadata": {
        "colab": {
          "base_uri": "https://localhost:8080/",
          "height": 492
        },
        "id": "R2mUocSySmdh",
        "outputId": "78e61927-5169-4a80-a333-25afb12c4a89"
      },
      "execution_count": 245,
      "outputs": [
        {
          "output_type": "display_data",
          "data": {
            "text/plain": [
              "<Figure size 800x500 with 1 Axes>"
            ],
            "image/png": "[encoded data removed]"
          },
          "metadata": {}
        }
      ]
    },
    {
      "cell_type": "markdown",
      "source": [
        "Load Fifa data"
      ],
      "metadata": {
        "id": "UsPa3GFwXPpY"
      }
    },
    {
      "cell_type": "code",
      "source": [
        "fifa = pd.read_csv('fifa_data.csv')\n",
        "\n",
        "fifa.head(5)"
      ],
      "metadata": {
        "colab": {
          "base_uri": "https://localhost:8080/",
          "height": 359
        },
        "id": "0zSJIPchPt2S",
        "outputId": "42b87dec-d11d-4c16-d962-a940beb02d9e"
      },
      "execution_count": 246,
      "outputs": [
        {
          "output_type": "execute_result",
          "data": {
            "text/plain": [
              "   Unnamed: 0      ID               Name  Age  \\\n",
              "0           0  158023           L. Messi   31   \n",
              "1           1   20801  Cristiano Ronaldo   33   \n",
              "2           2  190871          Neymar Jr   26   \n",
              "3           3  193080             De Gea   27   \n",
              "4           4  192985       K. De Bruyne   27   \n",
              "\n",
              "                                            Photo Nationality  \\\n",
              "0  https://cdn.sofifa.org/players/4/19/158023.png   Argentina   \n",
              "1   https://cdn.sofifa.org/players/4/19/20801.png    Portugal   \n",
              "2  https://cdn.sofifa.org/players/4/19/190871.png      Brazil   \n",
              "3  https://cdn.sofifa.org/players/4/19/193080.png       Spain   \n",
              "4  https://cdn.sofifa.org/players/4/19/192985.png     Belgium   \n",
              "\n",
              "                                  Flag  Overall  Potential  \\\n",
              "0  https://cdn.sofifa.org/flags/52.png       94         94   \n",
              "1  https://cdn.sofifa.org/flags/38.png       94         94   \n",
              "2  https://cdn.sofifa.org/flags/54.png       92         93   \n",
              "3  https://cdn.sofifa.org/flags/45.png       91         93   \n",
              "4   https://cdn.sofifa.org/flags/7.png       91         92   \n",
              "\n",
              "                  Club  ... Composure Marking StandingTackle  SlidingTackle  \\\n",
              "0         FC Barcelona  ...      96.0    33.0           28.0           26.0   \n",
              "1             Juventus  ...      95.0    28.0           31.0           23.0   \n",
              "2  Paris Saint-Germain  ...      94.0    27.0           24.0           33.0   \n",
              "3    Manchester United  ...      68.0    15.0           21.0           13.0   \n",
              "4      Manchester City  ...      88.0    68.0           58.0           51.0   \n",
              "\n",
              "  GKDiving  GKHandling  GKKicking  GKPositioning GKReflexes Release Clause  \n",
              "0      6.0        11.0       15.0           14.0        8.0        €226.5M  \n",
              "1      7.0        11.0       15.0           14.0       11.0        €127.1M  \n",
              "2      9.0         9.0       15.0           15.0       11.0        €228.1M  \n",
              "3     90.0        85.0       87.0           88.0       94.0        €138.6M  \n",
              "4     15.0        13.0        5.0           10.0       13.0        €196.4M  \n",
              "\n",
              "[5 rows x 89 columns]"
            ],
            "text/html": [
              "\n",
              "  <div id=\"df-29dff642-4b3d-44f5-ba57-ffb97b3d23fe\" class=\"colab-df-container\">\n",
              "    <div>\n",
              "<style scoped>\n",
              "    .dataframe tbody tr th:only-of-type {\n",
              "        vertical-align: middle;\n",
              "    }\n",
              "\n",
              "    .dataframe tbody tr th {\n",
              "        vertical-align: top;\n",
              "    }\n",
              "\n",
              "    .dataframe thead th {\n",
              "        text-align: right;\n",
              "    }\n",
              "</style>\n",
              "<table border=\"1\" class=\"dataframe\">\n",
              "  <thead>\n",
              "    <tr style=\"text-align: right;\">\n",
              "      <th></th>\n",
              "      <th>Unnamed: 0</th>\n",
              "      <th>ID</th>\n",
              "      <th>Name</th>\n",
              "      <th>Age</th>\n",
              "      <th>Photo</th>\n",
              "      <th>Nationality</th>\n",
              "      <th>Flag</th>\n",
              "      <th>Overall</th>\n",
              "      <th>Potential</th>\n",
              "      <th>Club</th>\n",
              "      <th>...</th>\n",
              "      <th>Composure</th>\n",
              "      <th>Marking</th>\n",
              "      <th>StandingTackle</th>\n",
              "      <th>SlidingTackle</th>\n",
              "      <th>GKDiving</th>\n",
              "      <th>GKHandling</th>\n",
              "      <th>GKKicking</th>\n",
              "      <th>GKPositioning</th>\n",
              "      <th>GKReflexes</th>\n",
              "      <th>Release Clause</th>\n",
              "    </tr>\n",
              "  </thead>\n",
              "  <tbody>\n",
              "    <tr>\n",
              "      <th>0</th>\n",
              "      <td>0</td>\n",
              "      <td>158023</td>\n",
              "      <td>L. Messi</td>\n",
              "      <td>31</td>\n",
              "      <td>https://cdn.sofifa.org/players/4/19/158023.png</td>\n",
              "      <td>Argentina</td>\n",
              "      <td>https://cdn.sofifa.org/flags/52.png</td>\n",
              "      <td>94</td>\n",
              "      <td>94</td>\n",
              "      <td>FC Barcelona</td>\n",
              "      <td>...</td>\n",
              "      <td>96.0</td>\n",
              "      <td>33.0</td>\n",
              "      <td>28.0</td>\n",
              "      <td>26.0</td>\n",
              "      <td>6.0</td>\n",
              "      <td>11.0</td>\n",
              "      <td>15.0</td>\n",
              "      <td>14.0</td>\n",
              "      <td>8.0</td>\n",
              "      <td>€226.5M</td>\n",
              "    </tr>\n",
              "    <tr>\n",
              "      <th>1</th>\n",
              "      <td>1</td>\n",
              "      <td>20801</td>\n",
              "      <td>Cristiano Ronaldo</td>\n",
              "      <td>33</td>\n",
              "      <td>https://cdn.sofifa.org/players/4/19/20801.png</td>\n",
              "      <td>Portugal</td>\n",
              "      <td>https://cdn.sofifa.org/flags/38.png</td>\n",
              "      <td>94</td>\n",
              "      <td>94</td>\n",
              "      <td>Juventus</td>\n",
              "      <td>...</td>\n",
              "      <td>95.0</td>\n",
              "      <td>28.0</td>\n",
              "      <td>31.0</td>\n",
              "      <td>23.0</td>\n",
              "      <td>7.0</td>\n",
              "      <td>11.0</td>\n",
              "      <td>15.0</td>\n",
              "      <td>14.0</td>\n",
              "      <td>11.0</td>\n",
              "      <td>€127.1M</td>\n",
              "    </tr>\n",
              "    <tr>\n",
              "      <th>2</th>\n",
              "      <td>2</td>\n",
              "      <td>190871</td>\n",
              "      <td>Neymar Jr</td>\n",
              "      <td>26</td>\n",
              "      <td>https://cdn.sofifa.org/players/4/19/190871.png</td>\n",
              "      <td>Brazil</td>\n",
              "      <td>https://cdn.sofifa.org/flags/54.png</td>\n",
              "      <td>92</td>\n",
              "      <td>93</td>\n",
              "      <td>Paris Saint-Germain</td>\n",
              "      <td>...</td>\n",
              "      <td>94.0</td>\n",
              "      <td>27.0</td>\n",
              "      <td>24.0</td>\n",
              "      <td>33.0</td>\n",
              "      <td>9.0</td>\n",
              "      <td>9.0</td>\n",
              "      <td>15.0</td>\n",
              "      <td>15.0</td>\n",
              "      <td>11.0</td>\n",
              "      <td>€228.1M</td>\n",
              "    </tr>\n",
              "    <tr>\n",
              "      <th>3</th>\n",
              "      <td>3</td>\n",
              "      <td>193080</td>\n",
              "      <td>De Gea</td>\n",
              "      <td>27</td>\n",
              "      <td>https://cdn.sofifa.org/players/4/19/193080.png</td>\n",
              "      <td>Spain</td>\n",
              "      <td>https://cdn.sofifa.org/flags/45.png</td>\n",
              "      <td>91</td>\n",
              "      <td>93</td>\n",
              "      <td>Manchester United</td>\n",
              "      <td>...</td>\n",
              "      <td>68.0</td>\n",
              "      <td>15.0</td>\n",
              "      <td>21.0</td>\n",
              "      <td>13.0</td>\n",
              "      <td>90.0</td>\n",
              "      <td>85.0</td>\n",
              "      <td>87.0</td>\n",
              "      <td>88.0</td>\n",
              "      <td>94.0</td>\n",
              "      <td>€138.6M</td>\n",
              "    </tr>\n",
              "    <tr>\n",
              "      <th>4</th>\n",
              "      <td>4</td>\n",
              "      <td>192985</td>\n",
              "      <td>K. De Bruyne</td>\n",
              "      <td>27</td>\n",
              "      <td>https://cdn.sofifa.org/players/4/19/192985.png</td>\n",
              "      <td>Belgium</td>\n",
              "      <td>https://cdn.sofifa.org/flags/7.png</td>\n",
              "      <td>91</td>\n",
              "      <td>92</td>\n",
              "      <td>Manchester City</td>\n",
              "      <td>...</td>\n",
              "      <td>88.0</td>\n",
              "      <td>68.0</td>\n",
              "      <td>58.0</td>\n",
              "      <td>51.0</td>\n",
              "      <td>15.0</td>\n",
              "      <td>13.0</td>\n",
              "      <td>5.0</td>\n",
              "      <td>10.0</td>\n",
              "      <td>13.0</td>\n",
              "      <td>€196.4M</td>\n",
              "    </tr>\n",
              "  </tbody>\n",
              "</table>\n",
              "<p>5 rows × 89 columns</p>\n",
              "</div>\n",
              "    <div class=\"colab-df-buttons\">\n",
              "\n",
              "  <div class=\"colab-df-container\">\n",
              "    <button class=\"colab-df-convert\" onclick=\"convertToInteractive('df-29dff642-4b3d-44f5-ba57-ffb97b3d23fe')\"\n",
              "            title=\"Convert this dataframe to an interactive table.\"\n",
              "            style=\"display:none;\">\n",
              "\n",
              "  <svg xmlns=\"http://www.w3.org/2000/svg\" height=\"24px\" viewBox=\"0 -960 960 960\">\n",
              "    <path d=\"M120-120v-720h720v720H120Zm60-500h600v-160H180v160Zm220 220h160v-160H400v160Zm0 220h160v-160H400v160ZM180-400h160v-160H180v160Zm440 0h160v-160H620v160ZM180-180h160v-160H180v160Zm440 0h160v-160H620v160Z\"/>\n",
              "  </svg>\n",
              "    </button>\n",
              "\n",
              "  <style>\n",
              "    .colab-df-container {\n",
              "      display:flex;\n",
              "      gap: 12px;\n",
              "    }\n",
              "\n",
              "    .colab-df-convert {\n",
              "      background-color: #E8F0FE;\n",
              "      border: none;\n",
              "      border-radius: 50%;\n",
              "      cursor: pointer;\n",
              "      display: none;\n",
              "      fill: #1967D2;\n",
              "      height: 32px;\n",
              "      padding: 0 0 0 0;\n",
              "      width: 32px;\n",
              "    }\n",
              "\n",
              "    .colab-df-convert:hover {\n",
              "      background-color: #E2EBFA;\n",
              "      box-shadow: 0px 1px 2px rgba(60, 64, 67, 0.3), 0px 1px 3px 1px rgba(60, 64, 67, 0.15);\n",
              "      fill: #174EA6;\n",
              "    }\n",
              "\n",
              "    .colab-df-buttons div {\n",
              "      margin-bottom: 4px;\n",
              "    }\n",
              "\n",
              "    [theme=dark] .colab-df-convert {\n",
              "      background-color: #3B4455;\n",
              "      fill: #D2E3FC;\n",
              "    }\n",
              "\n",
              "    [theme=dark] .colab-df-convert:hover {\n",
              "      background-color: #434B5C;\n",
              "      box-shadow: 0px 1px 3px 1px rgba(0, 0, 0, 0.15);\n",
              "      filter: drop-shadow(0px 1px 2px rgba(0, 0, 0, 0.3));\n",
              "      fill: #FFFFFF;\n",
              "    }\n",
              "  </style>\n",
              "\n",
              "    <script>\n",
              "      const buttonEl =\n",
              "        document.querySelector('#df-29dff642-4b3d-44f5-ba57-ffb97b3d23fe button.colab-df-convert');\n",
              "      buttonEl.style.display =\n",
              "        google.colab.kernel.accessAllowed ? 'block' : 'none';\n",
              "\n",
              "      async function convertToInteractive(key) {\n",
              "        const element = document.querySelector('#df-29dff642-4b3d-44f5-ba57-ffb97b3d23fe');\n",
              "        const dataTable =\n",
              "          await google.colab.kernel.invokeFunction('convertToInteractive',\n",
              "                                                    [key], {});\n",
              "        if (!dataTable) return;\n",
              "\n",
              "        const docLinkHtml = 'Like what you see? Visit the ' +\n",
              "          '<a target=\"_blank\" href=https://colab.research.google.com/notebooks/data_table.ipynb>data table notebook</a>'\n",
              "          + ' to learn more about interactive tables.';\n",
              "        element.innerHTML = '';\n",
              "        dataTable['output_type'] = 'display_data';\n",
              "        await google.colab.output.renderOutput(dataTable, element);\n",
              "        const docLink = document.createElement('div');\n",
              "        docLink.innerHTML = docLinkHtml;\n",
              "        element.appendChild(docLink);\n",
              "      }\n",
              "    </script>\n",
              "  </div>\n",
              "\n",
              "\n",
              "    <div id=\"df-a84c962b-3705-43a9-97f2-cd75487448af\">\n",
              "      <button class=\"colab-df-quickchart\" onclick=\"quickchart('df-a84c962b-3705-43a9-97f2-cd75487448af')\"\n",
              "                title=\"Suggest charts\"\n",
              "                style=\"display:none;\">\n",
              "\n",
              "<svg xmlns=\"http://www.w3.org/2000/svg\" height=\"24px\"viewBox=\"0 0 24 24\"\n",
              "     width=\"24px\">\n",
              "    <g>\n",
              "        <path d=\"M19 3H5c-1.1 0-2 .9-2 2v14c0 1.1.9 2 2 2h14c1.1 0 2-.9 2-2V5c0-1.1-.9-2-2-2zM9 17H7v-7h2v7zm4 0h-2V7h2v10zm4 0h-2v-4h2v4z\"/>\n",
              "    </g>\n",
              "</svg>\n",
              "      </button>\n",
              "\n",
              "<style>\n",
              "  .colab-df-quickchart {\n",
              "      --bg-color: #E8F0FE;\n",
              "      --fill-color: #1967D2;\n",
              "      --hover-bg-color: #E2EBFA;\n",
              "      --hover-fill-color: #174EA6;\n",
              "      --disabled-fill-color: #AAA;\n",
              "      --disabled-bg-color: #DDD;\n",
              "  }\n",
              "\n",
              "  [theme=dark] .colab-df-quickchart {\n",
              "      --bg-color: #3B4455;\n",
              "      --fill-color: #D2E3FC;\n",
              "      --hover-bg-color: #434B5C;\n",
              "      --hover-fill-color: #FFFFFF;\n",
              "      --disabled-bg-color: #3B4455;\n",
              "      --disabled-fill-color: #666;\n",
              "  }\n",
              "\n",
              "  .colab-df-quickchart {\n",
              "    background-color: var(--bg-color);\n",
              "    border: none;\n",
              "    border-radius: 50%;\n",
              "    cursor: pointer;\n",
              "    display: none;\n",
              "    fill: var(--fill-color);\n",
              "    height: 32px;\n",
              "    padding: 0;\n",
              "    width: 32px;\n",
              "  }\n",
              "\n",
              "  .colab-df-quickchart:hover {\n",
              "    background-color: var(--hover-bg-color);\n",
              "    box-shadow: 0 1px 2px rgba(60, 64, 67, 0.3), 0 1px 3px 1px rgba(60, 64, 67, 0.15);\n",
              "    fill: var(--button-hover-fill-color);\n",
              "  }\n",
              "\n",
              "  .colab-df-quickchart-complete:disabled,\n",
              "  .colab-df-quickchart-complete:disabled:hover {\n",
              "    background-color: var(--disabled-bg-color);\n",
              "    fill: var(--disabled-fill-color);\n",
              "    box-shadow: none;\n",
              "  }\n",
              "\n",
              "  .colab-df-spinner {\n",
              "    border: 2px solid var(--fill-color);\n",
              "    border-color: transparent;\n",
              "    border-bottom-color: var(--fill-color);\n",
              "    animation:\n",
              "      spin 1s steps(1) infinite;\n",
              "  }\n",
              "\n",
              "  @keyframes spin {\n",
              "    0% {\n",
              "      border-color: transparent;\n",
              "      border-bottom-color: var(--fill-color);\n",
              "      border-left-color: var(--fill-color);\n",
              "    }\n",
              "    20% {\n",
              "      border-color: transparent;\n",
              "      border-left-color: var(--fill-color);\n",
              "      border-top-color: var(--fill-color);\n",
              "    }\n",
              "    30% {\n",
              "      border-color: transparent;\n",
              "      border-left-color: var(--fill-color);\n",
              "      border-top-color: var(--fill-color);\n",
              "      border-right-color: var(--fill-color);\n",
              "    }\n",
              "    40% {\n",
              "      border-color: transparent;\n",
              "      border-right-color: var(--fill-color);\n",
              "      border-top-color: var(--fill-color);\n",
              "    }\n",
              "    60% {\n",
              "      border-color: transparent;\n",
              "      border-right-color: var(--fill-color);\n",
              "    }\n",
              "    80% {\n",
              "      border-color: transparent;\n",
              "      border-right-color: var(--fill-color);\n",
              "      border-bottom-color: var(--fill-color);\n",
              "    }\n",
              "    90% {\n",
              "      border-color: transparent;\n",
              "      border-bottom-color: var(--fill-color);\n",
              "    }\n",
              "  }\n",
              "</style>\n",
              "\n",
              "      <script>\n",
              "        async function quickchart(key) {\n",
              "          const quickchartButtonEl =\n",
              "            document.querySelector('#' + key + ' button');\n",
              "          quickchartButtonEl.disabled = true;  // To prevent multiple clicks.\n",
              "          quickchartButtonEl.classList.add('colab-df-spinner');\n",
              "          try {\n",
              "            const charts = await google.colab.kernel.invokeFunction(\n",
              "                'suggestCharts', [key], {});\n",
              "          } catch (error) {\n",
              "            console.error('Error during call to suggestCharts:', error);\n",
              "          }\n",
              "          quickchartButtonEl.classList.remove('colab-df-spinner');\n",
              "          quickchartButtonEl.classList.add('colab-df-quickchart-complete');\n",
              "        }\n",
              "        (() => {\n",
              "          let quickchartButtonEl =\n",
              "            document.querySelector('#df-a84c962b-3705-43a9-97f2-cd75487448af button');\n",
              "          quickchartButtonEl.style.display =\n",
              "            google.colab.kernel.accessAllowed ? 'block' : 'none';\n",
              "        })();\n",
              "      </script>\n",
              "    </div>\n",
              "\n",
              "    </div>\n",
              "  </div>\n"
            ],
            "application/vnd.google.colaboratory.intrinsic+json": {
              "type": "dataframe",
              "variable_name": "fifa"
            }
          },
          "metadata": {},
          "execution_count": 246
        }
      ]
    },
    {
      "cell_type": "markdown",
      "source": [
        "### **Histograms**"
      ],
      "metadata": {
        "id": "T5mVeBeDXfTw"
      }
    },
    {
      "cell_type": "code",
      "source": [
        "bins = [40,50,60,70,80,90,100]\n",
        "plt.figure(figsize=(8,5))\n",
        "plt.hist(fifa.Overall,bins=bins,color=\"#abcdef\")\n",
        "plt.xticks(bins)\n",
        "plt.ylabel('Number of Players')\n",
        "plt.xlabel('Skill Level')\n",
        "plt.title('Distribution of Player Skills in FIFA 2018')\n",
        "plt.show()"
      ],
      "metadata": {
        "colab": {
          "base_uri": "https://localhost:8080/",
          "height": 487
        },
        "id": "zDmjIEhxXkyn",
        "outputId": "8ba9711d-44ac-49aa-ac8b-6bfc62c3a5a5"
      },
      "execution_count": 254,
      "outputs": [
        {
          "output_type": "display_data",
          "data": {
            "text/plain": [
              "<Figure size 800x500 with 1 Axes>"
            ],
            "image/png": "[encoded data removed]"
          },
          "metadata": {}
        }
      ]
    },
    {
      "cell_type": "code",
      "source": [
        "left=fifa.loc[fifa['Preferred Foot']=='Left'].count()[0]\n",
        "right=fifa.loc[fifa['Preferred Foot']=='Right'].count()[0]\n",
        "labels=['Left','Right']\n",
        "colors=['#abcdef','#aabbcc']\n",
        "plt.pie([left,right] ,labels=labels,colors=colors,autopct=\"%.2f%%\")\n",
        "\n",
        "plt.title('Foot Preference of FIFA Players')\n",
        "plt.show()"
      ],
      "metadata": {
        "colab": {
          "base_uri": "https://localhost:8080/",
          "height": 517
        },
        "id": "fq-pEdu8aqIx",
        "outputId": "a668cd4b-19e1-4814-9e5f-d52d0b6560d7"
      },
      "execution_count": 261,
      "outputs": [
        {
          "output_type": "stream",
          "name": "stderr",
          "text": [
            "<ipython-input-261-9e89c7d5b36f>:1: FutureWarning: Series.__getitem__ treating keys as positions is deprecated. In a future version, integer keys will always be treated as labels (consistent with DataFrame behavior). To access a value by position, use `ser.iloc[pos]`\n",
            "  left=fifa.loc[fifa['Preferred Foot']=='Left'].count()[0]\n",
            "<ipython-input-261-9e89c7d5b36f>:2: FutureWarning: Series.__getitem__ treating keys as positions is deprecated. In a future version, integer keys will always be treated as labels (consistent with DataFrame behavior). To access a value by position, use `ser.iloc[pos]`\n",
            "  right=fifa.loc[fifa['Preferred Foot']=='Right'].count()[0]\n"
          ]
        },
        {
          "output_type": "display_data",
          "data": {
            "text/plain": [
              "<Figure size 640x480 with 1 Axes>"
            ],
            "image/png": "[encoded data removed]"
          },
          "metadata": {}
        }
      ]
    },
    {
      "cell_type": "code",
      "source": [
        "fifa.Weight= [int(x.strip('lbs')) if type(x)==str else x for x in fifa.Weight]\n",
        "plt.style.use(\"ggplot\")\n",
        "\n",
        "light = fifa.loc[fifa.Weight<125].count()[0]\n",
        "light_medium = fifa.loc[(fifa.Weight >= 125) & (fifa.Weight < 150)].count()[0]\n",
        "medium = fifa.loc[(fifa.Weight >= 150) & (fifa.Weight < 175)].count()[0]\n",
        "medium_heavy = fifa.loc[(fifa.Weight >= 175) & (fifa.Weight < 200)].count()[0]\n",
        "heavy = fifa.loc[fifa.Weight >= 200].count()[0]\n",
        "\n",
        "weights = [light,light_medium, medium, medium_heavy, heavy]\n",
        "label = ['under 125', '125-150', '150-175', '175-200', 'over 200']\n",
        "explode=(.4,.2,0,0,0.4)\n",
        "plt.pie(weights,labels=label ,explode=explode,autopct=\"%.2f %%\" ,pctdistance=0.8)\n",
        "\n",
        "plt.show()"
      ],
      "metadata": {
        "colab": {
          "base_uri": "https://localhost:8080/",
          "height": 600
        },
        "id": "h1GzASJpcOmq",
        "outputId": "2f1a6858-9ef7-40c8-d3f7-6b7bffea9a65"
      },
      "execution_count": 275,
      "outputs": [
        {
          "output_type": "stream",
          "name": "stderr",
          "text": [
            "<ipython-input-275-1b56d5f3c76a>:4: FutureWarning: Series.__getitem__ treating keys as positions is deprecated. In a future version, integer keys will always be treated as labels (consistent with DataFrame behavior). To access a value by position, use `ser.iloc[pos]`\n",
            "  light = fifa.loc[fifa.Weight<125].count()[0]\n",
            "<ipython-input-275-1b56d5f3c76a>:5: FutureWarning: Series.__getitem__ treating keys as positions is deprecated. In a future version, integer keys will always be treated as labels (consistent with DataFrame behavior). To access a value by position, use `ser.iloc[pos]`\n",
            "  light_medium = fifa.loc[(fifa.Weight >= 125) & (fifa.Weight < 150)].count()[0]\n",
            "<ipython-input-275-1b56d5f3c76a>:6: FutureWarning: Series.__getitem__ treating keys as positions is deprecated. In a future version, integer keys will always be treated as labels (consistent with DataFrame behavior). To access a value by position, use `ser.iloc[pos]`\n",
            "  medium = fifa.loc[(fifa.Weight >= 150) & (fifa.Weight < 175)].count()[0]\n",
            "<ipython-input-275-1b56d5f3c76a>:7: FutureWarning: Series.__getitem__ treating keys as positions is deprecated. In a future version, integer keys will always be treated as labels (consistent with DataFrame behavior). To access a value by position, use `ser.iloc[pos]`\n",
            "  medium_heavy = fifa.loc[(fifa.Weight >= 175) & (fifa.Weight < 200)].count()[0]\n",
            "<ipython-input-275-1b56d5f3c76a>:8: FutureWarning: Series.__getitem__ treating keys as positions is deprecated. In a future version, integer keys will always be treated as labels (consistent with DataFrame behavior). To access a value by position, use `ser.iloc[pos]`\n",
            "  heavy = fifa.loc[fifa.Weight >= 200].count()[0]\n"
          ]
        },
        {
          "output_type": "display_data",
          "data": {
            "text/plain": [
              "<Figure size 640x480 with 1 Axes>"
            ],
            "image/png": "[encoded data removed]"
          },
          "metadata": {}
        }
      ]
    }
  ]
}