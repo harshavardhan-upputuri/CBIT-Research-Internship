{
  "cells": [
    {
      "cell_type": "code",
      "source": [
        "import torch\n",
        "import numpy as np\n",
        "import matplotlib.pyplot as plt\n",
        "from sklearn.datasets import load_breast_cancer\n",
        "from torch import nn\n",
        "from torch.nn import functional as F\n",
        "import torch.optim as optim\n",
        "from torch.utils.data import Dataset ,DataLoader\n",
        "from sklearn.model_selection import train_test_split\n",
        "from sklearn.preprocessing import StandardScaler\n",
        "from tqdm import tqdm\n",
        "from sklearn.metrics import confusion_matrix,classification_report\n"
      ],
      "metadata": {
        "id": "ji80BLf2tmAN"
      },
      "execution_count": null,
      "outputs": []
    },
    {
      "cell_type": "code",
      "source": [
        "data=load_breast_cancer()\n",
        "x=data['data']\n",
        "y=data['target']\n",
        "\n",
        "x.shape,y.shape"
      ],
      "metadata": {
        "id": "3IEsF34juh7d",
        "outputId": "db49be96-36ac-4be9-bb52-4e0defd660e1",
        "colab": {
          "base_uri": "https://localhost:8080/"
        }
      },
      "execution_count": null,
      "outputs": [
        {
          "output_type": "execute_result",
          "data": {
            "text/plain": [
              "((569, 30), (569,))"
            ]
          },
          "metadata": {},
          "execution_count": 3
        }
      ]
    },
    {
      "cell_type": "code",
      "source": [
        "x_train,x_test,y_train,y_test=train_test_split(x,y,random_state=42,test_size=0.2)\n",
        "x_train.shape,y_train.shape ,x_test.shape,y_test.shape"
      ],
      "metadata": {
        "id": "j4VjQkG5vacp",
        "outputId": "318e6b39-e87d-4aa6-fc7c-df8f2a0d755e",
        "colab": {
          "base_uri": "https://localhost:8080/"
        }
      },
      "execution_count": null,
      "outputs": [
        {
          "output_type": "execute_result",
          "data": {
            "text/plain": [
              "((455, 30), (455,), (114, 30), (114,))"
            ]
          },
          "metadata": {},
          "execution_count": 5
        }
      ]
    },
    {
      "cell_type": "code",
      "source": [
        "scaler=StandardScaler()\n",
        "x_train=scaler.fit_transform(x_train)\n",
        "x_test=scaler.transform(x_test)"
      ],
      "metadata": {
        "id": "og_LLktyv2Kk"
      },
      "execution_count": null,
      "outputs": []
    },
    {
      "cell_type": "code",
      "source": [
        "class HyperParameters:\n",
        "  def __init__(self):\n",
        "    self.number_of_epochs=50\n",
        "    self.batch_size=8\n",
        "    self.learning_rate=0.01\n",
        "    self.shuffle=True"
      ],
      "metadata": {
        "id": "cBTy3yLTwG1C"
      },
      "execution_count": null,
      "outputs": []
    },
    {
      "cell_type": "code",
      "source": [
        "class TrainData(Dataset):\n",
        "  def __init__(self,x_train,y_train):\n",
        "    self.x_train=torch.tensor(x_train,dtype=torch.float32)\n",
        "    self.y_train=torch.tensor(y_train,dtype=torch.float32)\n",
        "\n",
        "  def __getitem__(self,index):\n",
        "    return self.x_train[index],self.y_train[index]\n",
        "\n",
        "  def __len__(self):\n",
        "    return len(self.x_train)\n",
        "train_data=TrainData(x_train,y_train)\n"
      ],
      "metadata": {
        "id": "jPJ0BcGywgwS"
      },
      "execution_count": null,
      "outputs": []
    },
    {
      "cell_type": "code",
      "source": [
        "class TestData(Dataset):\n",
        "  def __init__(self,x_test):\n",
        "    self.x_test=torch.tensor(x_test,dtype=torch.float32)\n",
        "\n",
        "\n",
        "  def __getitem__(self,index):\n",
        "    return self.x_test[index]\n",
        "\n",
        "  def __len__(self):\n",
        "    return len(self.x_test)\n",
        "test_data=TestData(x_test)"
      ],
      "metadata": {
        "id": "EFa7rXwTxzPV"
      },
      "execution_count": null,
      "outputs": []
    },
    {
      "cell_type": "code",
      "source": [
        "hyperparameters=HyperParameters()\n",
        "train_loader=DataLoader(train_data,batch_size=hyperparameters.batch_size,shuffle=hyperparameters.shuffle)\n",
        "test_loader=DataLoader(test_data,batch_size=1)\n"
      ],
      "metadata": {
        "id": "rmGg9QsIx_OU"
      },
      "execution_count": null,
      "outputs": []
    },
    {
      "cell_type": "code",
      "source": [
        "class BreastCancerClassifier(nn.Module):\n",
        "  def __init__(self,input_shape):\n",
        "    super(BreastCancerClassifier,self).__init__()\n",
        "    self.fc1=nn.Linear(input_shape,64)\n",
        "    self.fc2=nn.Linear(64,128)\n",
        "    self.fc3=nn.Linear(128,1)\n",
        "  def forward(self,x):\n",
        "    x=torch.relu(self.fc1(x))\n",
        "    x=torch.relu(self.fc2(x))\n",
        "    x=torch.sigmoid(self.fc3(x))\n",
        "    return x\n",
        "\n"
      ],
      "metadata": {
        "id": "MXQsDgnayxhQ"
      },
      "execution_count": null,
      "outputs": []
    },
    {
      "cell_type": "code",
      "source": [
        "!nvidia-smi"
      ],
      "metadata": {
        "id": "5n0TdMkX0bTW",
        "outputId": "45bab3ae-4eba-4ecf-dcdc-98039461ddd1",
        "colab": {
          "base_uri": "https://localhost:8080/"
        }
      },
      "execution_count": null,
      "outputs": [
        {
          "output_type": "stream",
          "name": "stdout",
          "text": [
            "Thu Jun 26 01:46:24 2025       \n",
            "+-----------------------------------------------------------------------------------------+\n",
            "| NVIDIA-SMI 550.54.15              Driver Version: 550.54.15      CUDA Version: 12.4     |\n",
            "|-----------------------------------------+------------------------+----------------------+\n",
            "| GPU  Name                 Persistence-M | Bus-Id          Disp.A | Volatile Uncorr. ECC |\n",
            "| Fan  Temp   Perf          Pwr:Usage/Cap |           Memory-Usage | GPU-Util  Compute M. |\n",
            "|                                         |                        |               MIG M. |\n",
            "|=========================================+========================+======================|\n",
            "|   0  Tesla T4                       Off |   00000000:00:04.0 Off |                    0 |\n",
            "| N/A   65C    P0             30W /   70W |     104MiB /  15360MiB |      0%      Default |\n",
            "|                                         |                        |                  N/A |\n",
            "+-----------------------------------------+------------------------+----------------------+\n",
            "                                                                                         \n",
            "+-----------------------------------------------------------------------------------------+\n",
            "| Processes:                                                                              |\n",
            "|  GPU   GI   CI        PID   Type   Process name                              GPU Memory |\n",
            "|        ID   ID                                                               Usage      |\n",
            "|=========================================================================================|\n",
            "+-----------------------------------------------------------------------------------------+\n"
          ]
        }
      ]
    },
    {
      "cell_type": "code",
      "source": [
        "device=torch.device(\"cuda\" if torch.cuda.is_available() else \"cpu\")\n",
        "print(device)"
      ],
      "metadata": {
        "id": "8Hx83hYY0-ZQ",
        "outputId": "1f03e25c-d441-48b5-ba07-142822d2fa63",
        "colab": {
          "base_uri": "https://localhost:8080/"
        }
      },
      "execution_count": null,
      "outputs": [
        {
          "output_type": "stream",
          "name": "stdout",
          "text": [
            "cuda\n"
          ]
        }
      ]
    },
    {
      "cell_type": "code",
      "source": [
        "model = BreastCancerClassifier(x_train.shape[1])\n",
        "optimizer=optim.Adam(model.parameters(),lr=hyperparameters.learning_rate)\n",
        "criterion=nn.BCELoss()\n",
        "model.to(device)"
      ],
      "metadata": {
        "id": "rsr4213A1X_l",
        "outputId": "b89e6f98-f82e-4309-bc8d-edfe7455a5e9",
        "colab": {
          "base_uri": "https://localhost:8080/"
        }
      },
      "execution_count": null,
      "outputs": [
        {
          "output_type": "execute_result",
          "data": {
            "text/plain": [
              "BreastCancerClassifier(\n",
              "  (fc1): Linear(in_features=30, out_features=64, bias=True)\n",
              "  (fc2): Linear(in_features=64, out_features=128, bias=True)\n",
              "  (fc3): Linear(in_features=128, out_features=1, bias=True)\n",
              ")"
            ]
          },
          "metadata": {},
          "execution_count": 28
        }
      ]
    },
    {
      "cell_type": "code",
      "source": [
        "def binary_acc(y_pred,y):\n",
        "  results=torch.round(y_pred)\n",
        "  correct_results_sum=(results==y).sum().float()\n",
        "  acc=correct_results_sum/y.shape[0]\n",
        "  acc=torch.round(acc*100)\n",
        "  return acc"
      ],
      "metadata": {
        "id": "U0Zb888s1_7j"
      },
      "execution_count": null,
      "outputs": []
    },
    {
      "cell_type": "code",
      "source": [
        "losses=[]\n",
        "accuacies=[]\n",
        "model.train()\n",
        "for i in range(1,hyperparameters.number_of_epochs):\n",
        "  epoch_loss=0\n",
        "  epoch_accuracy=0\n",
        "\n",
        "  for data in train_loader:\n",
        "    X_train,Y_train=data\n",
        "    X_train,Y_train=X_train.to(device),Y_train.to(device)\n",
        "    optimizer.zero_grad()\n",
        "    y_pred=model(X_train)\n",
        "    loss=criterion(y_pred,Y_train.reshape(-1,1))\n",
        "    acc=binary_acc(y_pred,Y_train.reshape(-1,1))\n",
        "\n",
        "    loss.backward()\n",
        "    optimizer.step()\n",
        "\n",
        "    epoch_loss+=loss.item()\n",
        "    epoch_accuracy+=acc.item()\n",
        "\n",
        "  if i%5 ==0 :\n",
        "    print(f\"Epoch {i+0:03}: | loss:{epoch_loss/len(train_loader):.5f}|Acc : {epoch_accuracy/len(train_loader):.3f}\")\n",
        "    losses.append(epoch_loss/len(train_loader))\n",
        "    accuacies.append(epoch_accuracy/len(train_loader))\n",
        "\n"
      ],
      "metadata": {
        "id": "ze2NrPUO3KH2",
        "outputId": "a5905a85-03ff-4158-bc50-8e7c6fc6f290",
        "colab": {
          "base_uri": "https://localhost:8080/"
        }
      },
      "execution_count": null,
      "outputs": [
        {
          "output_type": "stream",
          "name": "stdout",
          "text": [
            "Epoch 005: | loss:0.03363|Acc : 99.158\n",
            "Epoch 010: | loss:0.03384|Acc : 98.947\n",
            "Epoch 015: | loss:0.02470|Acc : 98.947\n",
            "Epoch 020: | loss:0.00683|Acc : 99.789\n",
            "Epoch 025: | loss:0.00187|Acc : 100.000\n",
            "Epoch 030: | loss:0.25650|Acc : 98.281\n",
            "Epoch 035: | loss:0.00345|Acc : 100.000\n",
            "Epoch 040: | loss:0.00048|Acc : 100.000\n",
            "Epoch 045: | loss:0.00020|Acc : 100.000\n"
          ]
        }
      ]
    },
    {
      "cell_type": "code",
      "source": [
        "plt.plot(losses)\n",
        "plt.title(\"epochs vs losses\")\n",
        "plt.xlabel(\"epochs\")\n",
        "plt.ylabel(\"losses\")\n",
        "plt.show()"
      ],
      "metadata": {
        "id": "lAnCb3j96n-t",
        "outputId": "291f7c22-f359-49de-9158-d6180fc5d2a8",
        "colab": {
          "base_uri": "https://localhost:8080/",
          "height": 472
        }
      },
      "execution_count": null,
      "outputs": [
        {
          "output_type": "display_data",
          "data": {
            "text/plain": [
              "<Figure size 640x480 with 1 Axes>"
            ],
            "image/png": "[encoded data removed]"
          },
          "metadata": {}
        }
      ]
    },
    {
      "cell_type": "code",
      "source": [
        "plt.plot(accuacies)\n",
        "plt.title(\"epochs vs accuacies\")\n",
        "plt.xlabel(\"epochs\")\n",
        "plt.ylabel(\"accuacies\")\n",
        "plt.show()"
      ],
      "metadata": {
        "id": "4VYpJoON7JF_",
        "outputId": "7767137b-2d2b-444d-d5df-b8be9edeab2b",
        "colab": {
          "base_uri": "https://localhost:8080/",
          "height": 472
        }
      },
      "execution_count": null,
      "outputs": [
        {
          "output_type": "display_data",
          "data": {
            "text/plain": [
              "<Figure size 640x480 with 1 Axes>"
            ],
            "image/png": "[encoded data removed]"
          },
          "metadata": {}
        }
      ]
    },
    {
      "cell_type": "code",
      "source": [
        "y_test_pred=[]\n",
        "model.eval()\n",
        "with torch.no_grad():\n",
        "  for X_test in test_loader:\n",
        "    X_test=X_test.to(device)\n",
        "\n",
        "    y_test_probabilities=model(X_test)\n",
        "    y_test_pred.append(y_test_probabilities.cpu().numpy())\n",
        "\n",
        "y_test_pred=[a.squeeze().tolist() for a in y_test_pred]\n"
      ],
      "metadata": {
        "id": "iKHY0HiF7dNk"
      },
      "execution_count": null,
      "outputs": []
    },
    {
      "cell_type": "code",
      "source": [
        "y_test_pred = np.array(y_test_pred).flatten()\n",
        "\n",
        "# Convert probabilities to class labels (threshold = 0.5)\n",
        "y_test_pred_labels = (y_test_pred > 0.5).astype(int)\n",
        "\n",
        "# Compute confusion matrix\n",
        "cm = confusion_matrix(y_test, y_test_pred_labels)\n",
        "print(cm)"
      ],
      "metadata": {
        "id": "4JLf-phw8meZ",
        "outputId": "c26ddcd5-0992-40c9-9e1c-096e947f20c3",
        "colab": {
          "base_uri": "https://localhost:8080/"
        }
      },
      "execution_count": null,
      "outputs": [
        {
          "output_type": "stream",
          "name": "stdout",
          "text": [
            "[[41  2]\n",
            " [ 2 69]]\n"
          ]
        }
      ]
    },
    {
      "cell_type": "code",
      "source": [
        "print(classification_report(y_test,y_test_pred_labels))"
      ],
      "metadata": {
        "id": "67zc41tZ9a8x",
        "outputId": "937da7d0-a545-4a53-ec4b-8b12752faf47",
        "colab": {
          "base_uri": "https://localhost:8080/"
        }
      },
      "execution_count": null,
      "outputs": [
        {
          "output_type": "stream",
          "name": "stdout",
          "text": [
            "              precision    recall  f1-score   support\n",
            "\n",
            "           0       0.95      0.95      0.95        43\n",
            "           1       0.97      0.97      0.97        71\n",
            "\n",
            "    accuracy                           0.96       114\n",
            "   macro avg       0.96      0.96      0.96       114\n",
            "weighted avg       0.96      0.96      0.96       114\n",
            "\n"
          ]
        }
      ]
    }
  ],
  "metadata": {
    "colab": {
      "provenance": [],
      "gpuType": "T4"
    },
    "kernelspec": {
      "display_name": "Python 3",
      "name": "python3"
    },
    "accelerator": "GPU"
  },
  "nbformat": 4,
  "nbformat_minor": 0
}